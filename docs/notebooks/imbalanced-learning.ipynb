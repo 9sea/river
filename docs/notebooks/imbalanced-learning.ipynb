{
 "cells": [
  {
   "cell_type": "markdown",
   "metadata": {},
   "source": [
    "# Working with imbalanced data"
   ]
  },
  {
   "cell_type": "markdown",
   "metadata": {},
   "source": [
    "In machine learning it is quite usual to have to deal with imbalanced dataset. This is particularly true in online learning for tasks such as fraud detection and spam classification. In these two cases, which are binary classification problems, there are usually many more 0s than 1s, which generally hinders the performance of the classifiers we thrown at them.\n",
    "\n",
    "As an example we'll use the credit card dataset available in `creme`. We'll first use a `collections.Counter` to count the number of 0s and 1s in order to get an idea of the class balance."
   ]
  },
  {
   "cell_type": "code",
   "execution_count": 1,
   "metadata": {},
   "outputs": [
    {
     "name": "stdout",
     "output_type": "stream",
     "text": [
      "0: 284315 (99.82725%)\n",
      "1: 492 (0.17275%)\n"
     ]
    }
   ],
   "source": [
    "import collections\n",
    "from creme import datasets\n",
    "\n",
    "X_y = datasets.CreditCard()\n",
    "\n",
    "counts = collections.Counter(y for _, y in X_y)\n",
    "\n",
    "for c, count in counts.items():\n",
    "    print(f'{c}: {count} ({count / sum(counts.values()):.5%})')"
   ]
  },
  {
   "cell_type": "markdown",
   "metadata": {},
   "source": [
    "## Baseline"
   ]
  },
  {
   "cell_type": "markdown",
   "metadata": {},
   "source": [
    "The dataset is quite unbalanced. For each 1 there are about 578 0s. Let's now train a logistic regression with default parameters and see how well it does. We'll measure the ROC AUC score."
   ]
  },
  {
   "cell_type": "code",
   "execution_count": null,
   "metadata": {},
   "outputs": [
    {
     "name": "stdout",
     "output_type": "stream",
     "text": [
      "[15,000] ROCAUC: 0.899341 – 0:00:02\n",
      "[30,000] ROCAUC: 0.87079 – 0:00:05\n",
      "[45,000] ROCAUC: 0.899804 – 0:00:08\n",
      "[60,000] ROCAUC: 0.89192 – 0:00:11\n",
      "[75,000] ROCAUC: 0.890126 – 0:00:14\n",
      "[90,000] ROCAUC: 0.897645 – 0:00:17\n",
      "[105,000] ROCAUC: 0.889682 – 0:00:20\n",
      "[120,000] ROCAUC: 0.886271 – 0:00:23\n",
      "[135,000] ROCAUC: 0.883233 – 0:00:26\n",
      "[150,000] ROCAUC: 0.885329 – 0:00:29\n",
      "[165,000] ROCAUC: 0.897751 – 0:00:32\n",
      "[180,000] ROCAUC: 0.896706 – 0:00:35\n",
      "[195,000] ROCAUC: 0.896068 – 0:00:38\n",
      "[210,000] ROCAUC: 0.894425 – 0:00:40\n",
      "[225,000] ROCAUC: 0.893745 – 0:00:43\n",
      "[240,000] ROCAUC: 0.893375 – 0:00:46\n",
      "[255,000] ROCAUC: 0.89189 – 0:00:49\n"
     ]
    }
   ],
   "source": [
    "from creme import linear_model\n",
    "from creme import metrics\n",
    "from creme import model_selection\n",
    "from creme import preprocessing\n",
    "\n",
    "\n",
    "X_y = datasets.CreditCard()\n",
    "\n",
    "model = (\n",
    "    preprocessing.StandardScaler() |\n",
    "    linear_model.LogisticRegression()\n",
    ")\n",
    "\n",
    "metric = metrics.ROCAUC()\n",
    "\n",
    "model_selection.progressive_val_score(\n",
    "    X_y,\n",
    "    model,\n",
    "    metric,\n",
    "    print_every=15_000,\n",
    "    show_time=True\n",
    ")"
   ]
  },
  {
   "cell_type": "markdown",
   "metadata": {},
   "source": [
    "## Importance weighting"
   ]
  },
  {
   "cell_type": "markdown",
   "metadata": {},
   "source": [
    "The performance is already quite acceptable, but as we will now see we can do even better. The first thing we can do is to add weight to the 1s by using the `class_weight` argument of the `LogisticRegression` class. Under the hood this will increase the magnitude of the gradient. Intuitively this helps the model on rare examples."
   ]
  },
  {
   "cell_type": "code",
   "execution_count": null,
   "metadata": {},
   "outputs": [],
   "source": [
    "model = (\n",
    "    preprocessing.StandardScaler() |\n",
    "    linear_model.LogisticRegression(\n",
    "        class_weights={0: 1, 1: 4}\n",
    "    )\n",
    ")\n",
    "\n",
    "metric = metrics.ROCAUC()\n",
    "\n",
    "model_selection.progressive_val_score(\n",
    "    X_y,\n",
    "    model,\n",
    "    metric,\n",
    "    print_every=15_000,\n",
    "    show_time=True\n",
    ")"
   ]
  },
  {
   "cell_type": "markdown",
   "metadata": {},
   "source": [
    "## Under-sampling the majority class"
   ]
  },
  {
   "cell_type": "markdown",
   "metadata": {},
   "source": [
    "Adding importance weights only works with gradient-based models (which includes neural networks). A more generic, and potentially more effective approach, is to use undersamplig and oversampling. As an example, we'll under-sample the stream so that our logistic regression encounter 20% of 1s and 80% of 0s. Under-sampling has the additional benefit of requiring less training steps, and thus reduces the total training time."
   ]
  },
  {
   "cell_type": "code",
   "execution_count": 4,
   "metadata": {},
   "outputs": [
    {
     "name": "stdout",
     "output_type": "stream",
     "text": [
      "[15,000] ROCAUC: 0.939514 – 0:00:02\n",
      "[30,000] ROCAUC: 0.948435 – 0:00:04\n",
      "[45,000] ROCAUC: 0.965093 – 0:00:06\n",
      "[60,000] ROCAUC: 0.956687 – 0:00:09\n",
      "[75,000] ROCAUC: 0.950131 – 0:00:11\n",
      "[90,000] ROCAUC: 0.956866 – 0:00:13\n",
      "[105,000] ROCAUC: 0.947408 – 0:00:15\n",
      "[120,000] ROCAUC: 0.942359 – 0:00:18\n",
      "[135,000] ROCAUC: 0.941693 – 0:00:20\n",
      "[150,000] ROCAUC: 0.943845 – 0:00:22\n",
      "[165,000] ROCAUC: 0.949408 – 0:00:24\n",
      "[180,000] ROCAUC: 0.948932 – 0:00:26\n",
      "[195,000] ROCAUC: 0.948422 – 0:00:28\n",
      "[210,000] ROCAUC: 0.948689 – 0:00:31\n",
      "[225,000] ROCAUC: 0.947371 – 0:00:33\n",
      "[240,000] ROCAUC: 0.949912 – 0:00:35\n",
      "[255,000] ROCAUC: 0.949748 – 0:00:37\n",
      "[270,000] ROCAUC: 0.950999 – 0:00:39\n"
     ]
    },
    {
     "data": {
      "text/plain": [
       "ROCAUC: 0.948824"
      ]
     },
     "execution_count": 4,
     "metadata": {},
     "output_type": "execute_result"
    }
   ],
   "source": [
    "from creme import imblearn\n",
    "\n",
    "\n",
    "model = (\n",
    "    preprocessing.StandardScaler() |\n",
    "    imblearn.RandomUnderSampler(\n",
    "        classifier=linear_model.LogisticRegression(),\n",
    "        desired_dist={0: .8, 1: .2},\n",
    "        seed=42\n",
    "    )\n",
    ")\n",
    "\n",
    "metric = metrics.ROCAUC()\n",
    "\n",
    "model_selection.progressive_val_score(\n",
    "    X_y,\n",
    "    model,\n",
    "    metric,\n",
    "    print_every=15_000,\n",
    "    show_time=True\n",
    ")"
   ]
  },
  {
   "cell_type": "markdown",
   "metadata": {},
   "source": [
    "The `RandomUnderSampler` class is a wrapper for classifiers. This is represented by a rectangle around the logistic regression bubble when we draw the model."
   ]
  },
  {
   "cell_type": "code",
   "execution_count": 5,
   "metadata": {},
   "outputs": [
    {
     "data": {
      "image/svg+xml": [
       "<?xml version=\"1.0\" encoding=\"UTF-8\" standalone=\"no\"?>\n",
       "<!DOCTYPE svg PUBLIC \"-//W3C//DTD SVG 1.1//EN\"\n",
       " \"http://www.w3.org/Graphics/SVG/1.1/DTD/svg11.dtd\">\n",
       "<!-- Generated by graphviz version 2.40.1 (0)\n",
       " -->\n",
       "<!-- Title: %3 Pages: 1 -->\n",
       "<svg width=\"198pt\" height=\"263pt\"\n",
       " viewBox=\"0.00 0.00 198.00 263.00\" xmlns=\"http://www.w3.org/2000/svg\" xmlns:xlink=\"http://www.w3.org/1999/xlink\">\n",
       "<g id=\"graph0\" class=\"graph\" transform=\"scale(1 1) rotate(0) translate(4 259)\">\n",
       "<title>%3</title>\n",
       "<polygon fill=\"#ffffff\" stroke=\"transparent\" points=\"-4,4 -4,-259 194,-259 194,4 -4,4\"/>\n",
       "<g id=\"clust1\" class=\"cluster\">\n",
       "<title>cluster_RandomUnderSampler</title>\n",
       "<polygon fill=\"none\" stroke=\"#000000\" points=\"8,-64 8,-139 182,-139 182,-64 8,-64\"/>\n",
       "<text text-anchor=\"middle\" x=\"95\" y=\"-123.8\" font-family=\"Times,serif\" font-size=\"14.00\" fill=\"#000000\">RandomUnderSampler</text>\n",
       "</g>\n",
       "<!-- x -->\n",
       "<g id=\"node1\" class=\"node\">\n",
       "<title>x</title>\n",
       "<ellipse fill=\"none\" stroke=\"#000000\" cx=\"95\" cy=\"-237\" rx=\"27\" ry=\"18\"/>\n",
       "<text text-anchor=\"middle\" x=\"95\" y=\"-233.3\" font-family=\"Times,serif\" font-size=\"14.00\" fill=\"#000000\">x</text>\n",
       "</g>\n",
       "<!-- StandardScaler -->\n",
       "<g id=\"node2\" class=\"node\">\n",
       "<title>StandardScaler</title>\n",
       "<ellipse fill=\"none\" stroke=\"#000000\" cx=\"95\" cy=\"-165\" rx=\"63.8893\" ry=\"18\"/>\n",
       "<text text-anchor=\"middle\" x=\"95\" y=\"-161.3\" font-family=\"Times,serif\" font-size=\"14.00\" fill=\"#000000\">StandardScaler</text>\n",
       "</g>\n",
       "<!-- x&#45;&gt;StandardScaler -->\n",
       "<g id=\"edge1\" class=\"edge\">\n",
       "<title>x&#45;&gt;StandardScaler</title>\n",
       "<path fill=\"none\" stroke=\"#000000\" d=\"M95,-218.8314C95,-211.131 95,-201.9743 95,-193.4166\"/>\n",
       "<polygon fill=\"#000000\" stroke=\"#000000\" points=\"98.5001,-193.4132 95,-183.4133 91.5001,-193.4133 98.5001,-193.4132\"/>\n",
       "</g>\n",
       "<!-- LogisticRegression -->\n",
       "<g id=\"node3\" class=\"node\">\n",
       "<title>LogisticRegression</title>\n",
       "<ellipse fill=\"none\" stroke=\"#000000\" cx=\"95\" cy=\"-90\" rx=\"78.7863\" ry=\"18\"/>\n",
       "<text text-anchor=\"middle\" x=\"95\" y=\"-86.3\" font-family=\"Times,serif\" font-size=\"14.00\" fill=\"#000000\">LogisticRegression</text>\n",
       "</g>\n",
       "<!-- StandardScaler&#45;&gt;LogisticRegression -->\n",
       "<g id=\"edge3\" class=\"edge\">\n",
       "<title>StandardScaler&#45;&gt;LogisticRegression</title>\n",
       "<path fill=\"none\" stroke=\"#000000\" d=\"M95,-146.8446C95,-138.3401 95,-128.0076 95,-118.4964\"/>\n",
       "<polygon fill=\"#000000\" stroke=\"#000000\" points=\"98.5001,-118.2481 95,-108.2482 91.5001,-118.2482 98.5001,-118.2481\"/>\n",
       "</g>\n",
       "<!-- y -->\n",
       "<g id=\"node4\" class=\"node\">\n",
       "<title>y</title>\n",
       "<ellipse fill=\"none\" stroke=\"#000000\" cx=\"95\" cy=\"-18\" rx=\"27\" ry=\"18\"/>\n",
       "<text text-anchor=\"middle\" x=\"95\" y=\"-14.3\" font-family=\"Times,serif\" font-size=\"14.00\" fill=\"#000000\">y</text>\n",
       "</g>\n",
       "<!-- LogisticRegression&#45;&gt;y -->\n",
       "<g id=\"edge2\" class=\"edge\">\n",
       "<title>LogisticRegression&#45;&gt;y</title>\n",
       "<path fill=\"none\" stroke=\"#000000\" d=\"M95,-71.8314C95,-64.131 95,-54.9743 95,-46.4166\"/>\n",
       "<polygon fill=\"#000000\" stroke=\"#000000\" points=\"98.5001,-46.4132 95,-36.4133 91.5001,-46.4133 98.5001,-46.4132\"/>\n",
       "</g>\n",
       "</g>\n",
       "</svg>\n"
      ],
      "text/plain": [
       "<graphviz.dot.Digraph at 0x7f66a5316f50>"
      ]
     },
     "execution_count": 5,
     "metadata": {},
     "output_type": "execute_result"
    }
   ],
   "source": [
    "model.draw()"
   ]
  },
  {
   "cell_type": "markdown",
   "metadata": {},
   "source": [
    "## Over-sampling the minority class"
   ]
  },
  {
   "cell_type": "markdown",
   "metadata": {},
   "source": [
    "We can also attain the same class distribution by over-sampling the minority class. This will come at cost of having to train with more samples."
   ]
  },
  {
   "cell_type": "code",
   "execution_count": 6,
   "metadata": {},
   "outputs": [
    {
     "name": "stdout",
     "output_type": "stream",
     "text": [
      "[15,000] ROCAUC: 0.939001 – 0:00:03\n",
      "[30,000] ROCAUC: 0.928518 – 0:00:06\n",
      "[45,000] ROCAUC: 0.948975 – 0:00:09\n",
      "[60,000] ROCAUC: 0.936699 – 0:00:12\n",
      "[75,000] ROCAUC: 0.9297 – 0:00:15\n",
      "[90,000] ROCAUC: 0.934275 – 0:00:18\n",
      "[105,000] ROCAUC: 0.924655 – 0:00:21\n",
      "[120,000] ROCAUC: 0.91896 – 0:00:24\n",
      "[135,000] ROCAUC: 0.917809 – 0:00:27\n",
      "[150,000] ROCAUC: 0.916056 – 0:00:30\n",
      "[165,000] ROCAUC: 0.925535 – 0:00:33\n",
      "[180,000] ROCAUC: 0.925481 – 0:00:36\n",
      "[195,000] ROCAUC: 0.923488 – 0:00:39\n",
      "[210,000] ROCAUC: 0.922177 – 0:00:42\n",
      "[225,000] ROCAUC: 0.921203 – 0:00:45\n",
      "[240,000] ROCAUC: 0.920579 – 0:00:48\n",
      "[255,000] ROCAUC: 0.920353 – 0:00:51\n",
      "[270,000] ROCAUC: 0.921487 – 0:00:54\n"
     ]
    },
    {
     "data": {
      "text/plain": [
       "ROCAUC: 0.918082"
      ]
     },
     "execution_count": 6,
     "metadata": {},
     "output_type": "execute_result"
    }
   ],
   "source": [
    "model = (\n",
    "    preprocessing.StandardScaler() |\n",
    "    imblearn.RandomOverSampler(\n",
    "        classifier=linear_model.LogisticRegression(),\n",
    "        desired_dist={0: .8, 1: .2},\n",
    "        seed=42\n",
    "    )\n",
    ")\n",
    "\n",
    "metric = metrics.ROCAUC()\n",
    "\n",
    "model_selection.progressive_val_score(\n",
    "    X_y,\n",
    "    model,\n",
    "    metric,\n",
    "    print_every=15_000,\n",
    "    show_time=True\n",
    ")"
   ]
  },
  {
   "cell_type": "markdown",
   "metadata": {},
   "source": [
    "## Sampling with a desired sample size\n",
    "\n",
    "The downside of both `RandomUnderSampler` and `RandomOverSampler` is that you don't have any control on the amount of data the classifier trains on. The number of samples is adjusted so that the target distribution can be attained, either by under-sampling or over-sampling. However, you can do both at the same time and choose how much data the classifier will see. To do so, we can use the `RandomSampler` class. In addition to the desired class distribution, we can specify how much data to train on. The samples will both be under-sampled and over-sampled in order to fit your constraints. This is powerful because it allows you to control both the class distribution and the size of the training data (and thus the training time). In the following example we'll set it so that the model will train with 1 percent of the data."
   ]
  },
  {
   "cell_type": "code",
   "execution_count": 9,
   "metadata": {},
   "outputs": [
    {
     "name": "stdout",
     "output_type": "stream",
     "text": [
      "[15,000] ROCAUC: 0.946234 – 0:00:02\n",
      "[30,000] ROCAUC: 0.956145 – 0:00:04\n",
      "[45,000] ROCAUC: 0.972701 – 0:00:06\n",
      "[60,000] ROCAUC: 0.955377 – 0:00:09\n",
      "[75,000] ROCAUC: 0.949038 – 0:00:11\n",
      "[90,000] ROCAUC: 0.959151 – 0:00:13\n",
      "[105,000] ROCAUC: 0.946733 – 0:00:16\n",
      "[120,000] ROCAUC: 0.943587 – 0:00:18\n",
      "[135,000] ROCAUC: 0.944251 – 0:00:21\n",
      "[150,000] ROCAUC: 0.946132 – 0:00:23\n",
      "[165,000] ROCAUC: 0.951248 – 0:00:25\n",
      "[180,000] ROCAUC: 0.95303 – 0:00:28\n",
      "[195,000] ROCAUC: 0.95088 – 0:00:30\n",
      "[210,000] ROCAUC: 0.951606 – 0:00:32\n",
      "[225,000] ROCAUC: 0.949907 – 0:00:34\n",
      "[240,000] ROCAUC: 0.95294 – 0:00:37\n",
      "[255,000] ROCAUC: 0.952255 – 0:00:39\n",
      "[270,000] ROCAUC: 0.953966 – 0:00:41\n"
     ]
    },
    {
     "data": {
      "text/plain": [
       "ROCAUC: 0.951294"
      ]
     },
     "execution_count": 9,
     "metadata": {},
     "output_type": "execute_result"
    }
   ],
   "source": [
    "model = (\n",
    "    preprocessing.StandardScaler() |\n",
    "    imblearn.RandomSampler(\n",
    "        classifier=linear_model.LogisticRegression(),\n",
    "        desired_dist={0: .8, 1: .2},\n",
    "        sampling_rate=.01,\n",
    "        seed=42\n",
    "    )\n",
    ")\n",
    "\n",
    "metric = metrics.ROCAUC()\n",
    "\n",
    "model_selection.progressive_val_score(\n",
    "    X_y,\n",
    "    model,\n",
    "    metric,\n",
    "    print_every=15_000,\n",
    "    show_time=True\n",
    ")"
   ]
  }
 ],
 "metadata": {
  "kernelspec": {
   "display_name": "Python 3",
   "language": "python",
   "name": "python3"
  },
  "language_info": {
   "codemirror_mode": {
    "name": "ipython",
    "version": 3
   },
   "file_extension": ".py",
   "mimetype": "text/x-python",
   "name": "python",
   "nbconvert_exporter": "python",
   "pygments_lexer": "ipython3",
   "version": "3.7.4"
  }
 },
 "nbformat": 4,
 "nbformat_minor": 2
}
