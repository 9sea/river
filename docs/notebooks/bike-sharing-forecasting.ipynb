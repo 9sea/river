{
 "cells": [
  {
   "cell_type": "markdown",
   "metadata": {},
   "source": [
    "# Bike-sharing forecasting (regression)"
   ]
  },
  {
   "cell_type": "markdown",
   "metadata": {},
   "source": [
    "In this tutorial we're going to forecast the number of bikes in 5 bike stations from the city of Toulouse. We'll do so by building a simple model step by step. The dataset contains 182,470 observations. Let's first take a peak at the data."
   ]
  },
  {
   "cell_type": "code",
   "execution_count": 1,
   "metadata": {},
   "outputs": [
    {
     "name": "stdout",
     "output_type": "stream",
     "text": [
      "{'clouds': 75,\n",
      " 'description': 'light rain',\n",
      " 'humidity': 81,\n",
      " 'moment': datetime.datetime(2016, 4, 1, 0, 0, 7),\n",
      " 'pressure': 1017.0,\n",
      " 'station': 'metro-canal-du-midi',\n",
      " 'temperature': 6.54,\n",
      " 'wind': 9.3}\n",
      "Number of available bikes: 1\n"
     ]
    }
   ],
   "source": [
    "from pprint import pprint\n",
    "from creme import datasets\n",
    "\n",
    "X_y = datasets.fetch_bikes()\n",
    "\n",
    "for x, y in X_y:\n",
    "    pprint(x)\n",
    "    print(f'Number of available bikes: {y}')\n",
    "    break"
   ]
  },
  {
   "cell_type": "markdown",
   "metadata": {},
   "source": [
    "Let's start by using a simple linear regression on the numeric features. We can select the numeric features and discard the rest of the features using a `Whitelister`. Linear regression is very likely to go haywire if we don't scale the data, so we'll use a `StandardScaler` to do just that. We'll evaluate the model by measuring the mean absolute error. Finally we'll print the score every 20,000 observations. "
   ]
  },
  {
   "cell_type": "code",
   "execution_count": 2,
   "metadata": {},
   "outputs": [
    {
     "name": "stdout",
     "output_type": "stream",
     "text": [
      "[20,000] MAE: 4.915512\n",
      "[40,000] MAE: 5.336447\n",
      "[60,000] MAE: 5.337058\n",
      "[80,000] MAE: 5.403863\n",
      "[100,000] MAE: 5.439542\n",
      "[120,000] MAE: 5.557202\n",
      "[140,000] MAE: 5.629473\n",
      "[160,000] MAE: 5.64036\n",
      "[180,000] MAE: 5.590721\n"
     ]
    },
    {
     "data": {
      "text/plain": [
       "MAE: 5.587182"
      ]
     },
     "execution_count": 2,
     "metadata": {},
     "output_type": "execute_result"
    }
   ],
   "source": [
    "from creme import compose\n",
    "from creme import linear_model\n",
    "from creme import metrics\n",
    "from creme import model_selection\n",
    "from creme import preprocessing\n",
    "\n",
    "X_y = datasets.fetch_bikes()\n",
    "\n",
    "model = compose.Whitelister('clouds', 'humidity', 'pressure', 'temperature', 'wind')\n",
    "model |= preprocessing.StandardScaler()\n",
    "model |= linear_model.LinearRegression()\n",
    "\n",
    "metric = metrics.MAE()\n",
    "\n",
    "model_selection.online_score(X_y, model, metric, print_every=20_000)"
   ]
  },
  {
   "cell_type": "markdown",
   "metadata": {},
   "source": [
    "The model doesn't seem to be doing that well, but then again we didn't provide with a lot of features. A generally good idea for this kind of problem is to look at an average of the previous values. For example, for each station we can look at the average number of bikes per hour. To do so we first have to extract the hour from the  `moment` field. We can then use a `TargetAgg` to aggregate the values of the target."
   ]
  },
  {
   "cell_type": "code",
   "execution_count": 3,
   "metadata": {},
   "outputs": [
    {
     "name": "stdout",
     "output_type": "stream",
     "text": [
      "[20,000] MAE: 3.69264\n",
      "[40,000] MAE: 3.833299\n",
      "[60,000] MAE: 3.861838\n",
      "[80,000] MAE: 3.932554\n",
      "[100,000] MAE: 3.914898\n",
      "[120,000] MAE: 3.953248\n",
      "[140,000] MAE: 4.014258\n",
      "[160,000] MAE: 3.987742\n",
      "[180,000] MAE: 3.979371\n"
     ]
    },
    {
     "data": {
      "text/plain": [
       "MAE: 3.977548"
      ]
     },
     "execution_count": 3,
     "metadata": {},
     "output_type": "execute_result"
    }
   ],
   "source": [
    "from creme import feature_extraction\n",
    "from creme import stats\n",
    "\n",
    "X_y = datasets.fetch_bikes()\n",
    "\n",
    "def get_hour(x):\n",
    "    x['hour'] = x['moment'].hour\n",
    "    return x\n",
    "\n",
    "model = compose.Whitelister('clouds', 'humidity', 'pressure', 'temperature', 'wind')\n",
    "model += (\n",
    "    get_hour |\n",
    "    feature_extraction.TargetAgg(by=['station', 'hour'], how=stats.Mean())\n",
    ")\n",
    "model |= preprocessing.StandardScaler()\n",
    "model |= linear_model.LinearRegression()\n",
    "\n",
    "metric = metrics.MAE()\n",
    "\n",
    "model_selection.online_score(X_y, model, metric, print_every=20_000)"
   ]
  },
  {
   "cell_type": "markdown",
   "metadata": {},
   "source": [
    "By adding a single feature, we've managed to significantly reduce the mean absolute error. At this point you might think that the model is getting slightly complex, and is difficult to understand and test. Pipelines have the advantage of being terse, but they aren't always to debug. Thankfully `creme` has some ways to relieve the pain.\n",
    "\n",
    "The first thing we can do it to draw the pipeline, to get an idea of how the data flows through it."
   ]
  },
  {
   "cell_type": "code",
   "execution_count": 4,
   "metadata": {},
   "outputs": [
    {
     "data": {
      "image/svg+xml": [
       "<?xml version=\"1.0\" encoding=\"UTF-8\" standalone=\"no\"?>\n",
       "<!DOCTYPE svg PUBLIC \"-//W3C//DTD SVG 1.1//EN\"\n",
       " \"http://www.w3.org/Graphics/SVG/1.1/DTD/svg11.dtd\">\n",
       "<!-- Generated by graphviz version 2.40.1 (0)\n",
       " -->\n",
       "<!-- Title: %3 Pages: 1 -->\n",
       "<svg width=\"682pt\" height=\"404pt\"\n",
       " viewBox=\"0.00 0.00 682.22 404.00\" xmlns=\"http://www.w3.org/2000/svg\" xmlns:xlink=\"http://www.w3.org/1999/xlink\">\n",
       "<g id=\"graph0\" class=\"graph\" transform=\"scale(1 1) rotate(0) translate(4 400)\">\n",
       "<title>%3</title>\n",
       "<polygon fill=\"#ffffff\" stroke=\"transparent\" points=\"-4,4 -4,-400 678.2209,-400 678.2209,4 -4,4\"/>\n",
       "<!-- x -->\n",
       "<g id=\"node1\" class=\"node\">\n",
       "<title>x</title>\n",
       "<ellipse fill=\"none\" stroke=\"#000000\" cx=\"367.9827\" cy=\"-378\" rx=\"27\" ry=\"18\"/>\n",
       "<text text-anchor=\"middle\" x=\"367.9827\" y=\"-374.3\" font-family=\"Times,serif\" font-size=\"14.00\" fill=\"#000000\">x</text>\n",
       "</g>\n",
       "<!-- [&#39;clouds&#39;, &#39;humidity&#39;, &#39;pressure&#39;, &#39;temperature&#39;, &#39;wind&#39;] -->\n",
       "<g id=\"node2\" class=\"node\">\n",
       "<title>[&#39;clouds&#39;, &#39;humidity&#39;, &#39;pressure&#39;, &#39;temperature&#39;, &#39;wind&#39;]</title>\n",
       "<ellipse fill=\"none\" stroke=\"#000000\" cx=\"194.9827\" cy=\"-234\" rx=\"194.9654\" ry=\"18\"/>\n",
       "<text text-anchor=\"middle\" x=\"194.9827\" y=\"-230.3\" font-family=\"Times,serif\" font-size=\"14.00\" fill=\"#000000\">[&#39;clouds&#39;, &#39;humidity&#39;, &#39;pressure&#39;, &#39;temperature&#39;, &#39;wind&#39;]</text>\n",
       "</g>\n",
       "<!-- x&#45;&gt;[&#39;clouds&#39;, &#39;humidity&#39;, &#39;pressure&#39;, &#39;temperature&#39;, &#39;wind&#39;] -->\n",
       "<g id=\"edge1\" class=\"edge\">\n",
       "<title>x&#45;&gt;[&#39;clouds&#39;, &#39;humidity&#39;, &#39;pressure&#39;, &#39;temperature&#39;, &#39;wind&#39;]</title>\n",
       "<path fill=\"none\" stroke=\"#000000\" d=\"M351.0797,-363.9305C321.6754,-339.4552 260.7728,-288.7617 224.3409,-258.4369\"/>\n",
       "<polygon fill=\"#000000\" stroke=\"#000000\" points=\"226.444,-255.6336 216.519,-251.9261 221.9657,-261.0137 226.444,-255.6336\"/>\n",
       "</g>\n",
       "<!-- get_hour -->\n",
       "<g id=\"node3\" class=\"node\">\n",
       "<title>get_hour</title>\n",
       "<ellipse fill=\"none\" stroke=\"#000000\" cx=\"471.9827\" cy=\"-306\" rx=\"42.4939\" ry=\"18\"/>\n",
       "<text text-anchor=\"middle\" x=\"471.9827\" y=\"-302.3\" font-family=\"Times,serif\" font-size=\"14.00\" fill=\"#000000\">get_hour</text>\n",
       "</g>\n",
       "<!-- x&#45;&gt;get_hour -->\n",
       "<g id=\"edge3\" class=\"edge\">\n",
       "<title>x&#45;&gt;get_hour</title>\n",
       "<path fill=\"none\" stroke=\"#000000\" d=\"M387.0579,-364.7941C402.2769,-354.2578 423.888,-339.2964 441.5004,-327.1031\"/>\n",
       "<polygon fill=\"#000000\" stroke=\"#000000\" points=\"443.55,-329.9411 449.7797,-321.3713 439.5655,-324.1857 443.55,-329.9411\"/>\n",
       "</g>\n",
       "<!-- StandardScaler -->\n",
       "<g id=\"node5\" class=\"node\">\n",
       "<title>StandardScaler</title>\n",
       "<ellipse fill=\"none\" stroke=\"#000000\" cx=\"367.9827\" cy=\"-162\" rx=\"63.8893\" ry=\"18\"/>\n",
       "<text text-anchor=\"middle\" x=\"367.9827\" y=\"-158.3\" font-family=\"Times,serif\" font-size=\"14.00\" fill=\"#000000\">StandardScaler</text>\n",
       "</g>\n",
       "<!-- [&#39;clouds&#39;, &#39;humidity&#39;, &#39;pressure&#39;, &#39;temperature&#39;, &#39;wind&#39;]&#45;&gt;StandardScaler -->\n",
       "<g id=\"edge6\" class=\"edge\">\n",
       "<title>[&#39;clouds&#39;, &#39;humidity&#39;, &#39;pressure&#39;, &#39;temperature&#39;, &#39;wind&#39;]&#45;&gt;StandardScaler</title>\n",
       "<path fill=\"none\" stroke=\"#000000\" d=\"M237.3033,-216.3868C263.1397,-205.6341 296.1641,-191.8898 322.5498,-180.9085\"/>\n",
       "<polygon fill=\"#000000\" stroke=\"#000000\" points=\"324.0574,-184.0721 331.9449,-176.9984 321.3677,-177.6095 324.0574,-184.0721\"/>\n",
       "</g>\n",
       "<!-- target_mean_by_station_and_hour -->\n",
       "<g id=\"node4\" class=\"node\">\n",
       "<title>target_mean_by_station_and_hour</title>\n",
       "<ellipse fill=\"none\" stroke=\"#000000\" cx=\"540.9827\" cy=\"-234\" rx=\"133.4768\" ry=\"18\"/>\n",
       "<text text-anchor=\"middle\" x=\"540.9827\" y=\"-230.3\" font-family=\"Times,serif\" font-size=\"14.00\" fill=\"#000000\">target_mean_by_station_and_hour</text>\n",
       "</g>\n",
       "<!-- get_hour&#45;&gt;target_mean_by_station_and_hour -->\n",
       "<g id=\"edge2\" class=\"edge\">\n",
       "<title>get_hour&#45;&gt;target_mean_by_station_and_hour</title>\n",
       "<path fill=\"none\" stroke=\"#000000\" d=\"M487.9861,-289.3008C496.5517,-280.3627 507.277,-269.1711 516.8343,-259.1983\"/>\n",
       "<polygon fill=\"#000000\" stroke=\"#000000\" points=\"519.4679,-261.5087 523.86,-251.8671 514.414,-256.6654 519.4679,-261.5087\"/>\n",
       "</g>\n",
       "<!-- target_mean_by_station_and_hour&#45;&gt;StandardScaler -->\n",
       "<g id=\"edge7\" class=\"edge\">\n",
       "<title>target_mean_by_station_and_hour&#45;&gt;StandardScaler</title>\n",
       "<path fill=\"none\" stroke=\"#000000\" d=\"M499.5449,-216.7542C473.5485,-205.9349 440.0184,-191.9802 413.3147,-180.8665\"/>\n",
       "<polygon fill=\"#000000\" stroke=\"#000000\" points=\"414.3892,-177.5227 403.812,-176.9116 411.6995,-183.9854 414.3892,-177.5227\"/>\n",
       "</g>\n",
       "<!-- LinearRegression -->\n",
       "<g id=\"node6\" class=\"node\">\n",
       "<title>LinearRegression</title>\n",
       "<ellipse fill=\"none\" stroke=\"#000000\" cx=\"367.9827\" cy=\"-90\" rx=\"72.5877\" ry=\"18\"/>\n",
       "<text text-anchor=\"middle\" x=\"367.9827\" y=\"-86.3\" font-family=\"Times,serif\" font-size=\"14.00\" fill=\"#000000\">LinearRegression</text>\n",
       "</g>\n",
       "<!-- StandardScaler&#45;&gt;LinearRegression -->\n",
       "<g id=\"edge5\" class=\"edge\">\n",
       "<title>StandardScaler&#45;&gt;LinearRegression</title>\n",
       "<path fill=\"none\" stroke=\"#000000\" d=\"M367.9827,-143.8314C367.9827,-136.131 367.9827,-126.9743 367.9827,-118.4166\"/>\n",
       "<polygon fill=\"#000000\" stroke=\"#000000\" points=\"371.4828,-118.4132 367.9827,-108.4133 364.4828,-118.4133 371.4828,-118.4132\"/>\n",
       "</g>\n",
       "<!-- y -->\n",
       "<g id=\"node7\" class=\"node\">\n",
       "<title>y</title>\n",
       "<ellipse fill=\"none\" stroke=\"#000000\" cx=\"367.9827\" cy=\"-18\" rx=\"27\" ry=\"18\"/>\n",
       "<text text-anchor=\"middle\" x=\"367.9827\" y=\"-14.3\" font-family=\"Times,serif\" font-size=\"14.00\" fill=\"#000000\">y</text>\n",
       "</g>\n",
       "<!-- LinearRegression&#45;&gt;y -->\n",
       "<g id=\"edge4\" class=\"edge\">\n",
       "<title>LinearRegression&#45;&gt;y</title>\n",
       "<path fill=\"none\" stroke=\"#000000\" d=\"M367.9827,-71.8314C367.9827,-64.131 367.9827,-54.9743 367.9827,-46.4166\"/>\n",
       "<polygon fill=\"#000000\" stroke=\"#000000\" points=\"371.4828,-46.4132 367.9827,-36.4133 364.4828,-46.4133 371.4828,-46.4132\"/>\n",
       "</g>\n",
       "</g>\n",
       "</svg>\n"
      ],
      "text/plain": [
       "<graphviz.dot.Digraph at 0x7f58c0060080>"
      ]
     },
     "execution_count": 4,
     "metadata": {},
     "output_type": "execute_result"
    }
   ],
   "source": [
    "model.draw()"
   ]
  },
  {
   "cell_type": "markdown",
   "metadata": {},
   "source": [
    "We can also use the `debug_one` method to see what happens to one particular instance. Let's train the model on the first 10,000 observations and then call `debug_one` on the next one. The Pythonic way to read the first 10,000 elements of a generator is to use `itertools.islice`."
   ]
  },
  {
   "cell_type": "code",
   "execution_count": 5,
   "metadata": {},
   "outputs": [
    {
     "name": "stdout",
     "output_type": "stream",
     "text": [
      "0. Input\n",
      "--------\n",
      "clouds: 0 (int)\n",
      "description: clear sky (str)\n",
      "humidity: 52 (int)\n",
      "moment: 2016-04-10 19:03:27 (datetime)\n",
      "pressure: 1001.00000 (float)\n",
      "station: place-esquirol (str)\n",
      "temperature: 19.00000 (float)\n",
      "wind: 7.70000 (float)\n",
      "\n",
      "1. Transformer union\n",
      "--------------------\n",
      "    1.0 ['clouds', 'humidity', 'pressure', 'temperature', 'wind']\n",
      "    -------------------------------------------------------------\n",
      "    clouds: 0 (int)\n",
      "    humidity: 52 (int)\n",
      "    pressure: 1001.00000 (float)\n",
      "    temperature: 19.00000 (float)\n",
      "    wind: 7.70000 (float)\n",
      "\n",
      "    1.1 get_hour | target_mean_by_station_and_hour\n",
      "    ----------------------------------------------\n",
      "    target_mean_by_station_and_hour: 7.97175 (float)\n",
      "\n",
      "clouds: 0 (int)\n",
      "humidity: 52 (int)\n",
      "pressure: 1001.00000 (float)\n",
      "target_mean_by_station_and_hour: 7.97175 (float)\n",
      "temperature: 19.00000 (float)\n",
      "wind: 7.70000 (float)\n",
      "\n",
      "2. StandardScaler\n",
      "-----------------\n",
      "clouds: -1.36131 (float)\n",
      "humidity: -1.73074 (float)\n",
      "pressure: -1.26070 (float)\n",
      "target_mean_by_station_and_hour: 0.05495 (float)\n",
      "temperature: 1.76223 (float)\n",
      "wind: 1.45834 (float)\n",
      "\n",
      "3. LinearRegression\n",
      "-------------------\n",
      "5.408775230341934\n"
     ]
    }
   ],
   "source": [
    "import itertools\n",
    "\n",
    "X_y = datasets.fetch_bikes()\n",
    "\n",
    "model = compose.Whitelister('clouds', 'humidity', 'pressure', 'temperature', 'wind')\n",
    "model += (\n",
    "    get_hour |\n",
    "    feature_extraction.TargetAgg(by=['station', 'hour'], how=stats.Mean())\n",
    ")\n",
    "model |= preprocessing.StandardScaler()\n",
    "model |= linear_model.LinearRegression()\n",
    "\n",
    "for x, y in itertools.islice(X_y, 10000):\n",
    "    y_pred = model.predict_one(x)\n",
    "    model.fit_one(x, y)\n",
    "    \n",
    "x, y = next(X_y)\n",
    "model.debug_one(x)"
   ]
  },
  {
   "cell_type": "markdown",
   "metadata": {},
   "source": [
    "The `debug_one` method shows what happens to an input set of features, step by step.\n",
    "\n",
    "And now comes the catch. Up until now we've been using the `online_score` method from the `model_selection` module. What this does it that it sequentially predicts the output of an observation and updates the model immediately afterwards. This way of doing is often used for evaluating online learning models, but in some cases it is the wrong approach. \n",
    "\n",
    "The following paragraph is extremely important. When evaluating a machine learning model, the goal is to simulate production conditions in order to get a trust-worthy assessment of the performance of the model. In our case, we typically want to forecast the number of bikes available in a station, say, 30 minutes ahead. Then, once the 30 minutes have passed, the true number of available bikes will be available and we will be able to update the model using the features available 30 minutes ago. If you think about, this is exactly how a real-time machine learning system should work. The problem is that this isn't at all what the `online_score` method, indeed it is simply asking the model to predict the next observation, which is only a few minutes ahead, and then updates the model immediately. We can prove that this is flawed by adding a feature that measures a running average of the very recent values."
   ]
  },
  {
   "cell_type": "code",
   "execution_count": 6,
   "metadata": {},
   "outputs": [
    {
     "name": "stdout",
     "output_type": "stream",
     "text": [
      "[20,000] MAE: 0.796648\n",
      "[40,000] MAE: 0.77347\n",
      "[60,000] MAE: 0.809717\n",
      "[80,000] MAE: 0.859789\n",
      "[100,000] MAE: 0.886591\n",
      "[120,000] MAE: 0.896448\n",
      "[140,000] MAE: 0.901791\n",
      "[160,000] MAE: 0.914967\n",
      "[180,000] MAE: 0.924437\n"
     ]
    },
    {
     "data": {
      "text/plain": [
       "MAE: 0.926278"
      ]
     },
     "execution_count": 6,
     "metadata": {},
     "output_type": "execute_result"
    }
   ],
   "source": [
    "X_y = datasets.fetch_bikes()\n",
    "\n",
    "model = compose.Whitelister('clouds', 'humidity', 'pressure', 'temperature', 'wind')\n",
    "model += (\n",
    "    get_hour |\n",
    "    feature_extraction.TargetAgg(by=['station', 'hour'], how=stats.Mean()) + \n",
    "    feature_extraction.TargetAgg(by='station', how=stats.EWMean(0.5))\n",
    ")\n",
    "model |= preprocessing.StandardScaler()\n",
    "model |= linear_model.LinearRegression()\n",
    "\n",
    "metric = metrics.MAE()\n",
    "\n",
    "model_selection.online_score(X_y, model, metric, print_every=20_000)"
   ]
  },
  {
   "cell_type": "markdown",
   "metadata": {},
   "source": [
    "The score we got is too good to be true. This is simply because the problem is too easy. What we really want is to evaluate the model by forecasting 30 minutes ahead and only updating the model once the true values are available. This can be done using the `online_qa_score` method, also from the `model_selection` module. The \"qa\" part stands for \"question/answer\". The idea is that each observation of the stream of the data is shown twice to the model: once for making a prediction, and once for updating the model when the true value is revealed. The `on` parameter determines which variable should be used as a timestamp, while the `lag` parameter controls the duration to wait before revealing the true values to the model."
   ]
  },
  {
   "cell_type": "code",
   "execution_count": 7,
   "metadata": {},
   "outputs": [
    {
     "name": "stdout",
     "output_type": "stream",
     "text": [
      "[20,000] MAE: 2.209399\n",
      "[40,000] MAE: 2.216106\n",
      "[60,000] MAE: 2.249345\n",
      "[80,000] MAE: 2.271461\n",
      "[100,000] MAE: 2.281513\n",
      "[120,000] MAE: 2.265257\n",
      "[140,000] MAE: 2.25213\n",
      "[160,000] MAE: 2.279524\n",
      "[180,000] MAE: 2.282485\n"
     ]
    },
    {
     "data": {
      "text/plain": [
       "MAE: 2.285921"
      ]
     },
     "execution_count": 7,
     "metadata": {},
     "output_type": "execute_result"
    }
   ],
   "source": [
    "import datetime as dt\n",
    "\n",
    "model = compose.Whitelister('clouds', 'humidity', 'pressure', 'temperature', 'wind')\n",
    "model += (\n",
    "    get_hour |\n",
    "    feature_extraction.TargetAgg(by=['station', 'hour'], how=stats.Mean()) + \n",
    "    feature_extraction.TargetAgg(by='station', how=stats.EWMean(0.5))\n",
    ")\n",
    "model |= preprocessing.StandardScaler()\n",
    "model |= linear_model.LinearRegression()\n",
    "\n",
    "model_selection.online_qa_score(\n",
    "    X_y=datasets.fetch_bikes(),\n",
    "    model=model,\n",
    "    metric=metrics.MAE(),\n",
    "    on='moment',\n",
    "    lag=dt.timedelta(minutes=30),\n",
    "    print_every=20_000\n",
    ")"
   ]
  },
  {
   "cell_type": "markdown",
   "metadata": {},
   "source": [
    "The score we now have is much more realistic, as it is comparable with [related data science competitions](https://maxhalford.github.io/blog/a-short-introduction-and-conclusion-to-the-openbikes-2016-challenge/). Moreover, we can see that the model gets better with time, which feels better than the previous situations. The point is that `online_qa_score` method can be used to simulate a production scenario, and is thus extremely valuable.\n",
    "\n",
    "Now that we have a working pipeline in place, we can attempt to make it more accurate. As a simple example, we'll using a `HedgeRegressor` from the `ensemble` module to combine 3 linear regression model trained with different optimizers. The `HedgeRegressor` will run the 3 models in parallel and assign weights to each model based on their individual performance."
   ]
  },
  {
   "cell_type": "code",
   "execution_count": 8,
   "metadata": {},
   "outputs": [
    {
     "name": "stdout",
     "output_type": "stream",
     "text": [
      "[20,000] MAE: 2.25141\n",
      "[40,000] MAE: 2.241812\n",
      "[60,000] MAE: 2.271249\n",
      "[80,000] MAE: 2.287159\n",
      "[100,000] MAE: 2.294748\n",
      "[120,000] MAE: 2.276251\n",
      "[140,000] MAE: 2.261694\n",
      "[160,000] MAE: 2.286198\n",
      "[180,000] MAE: 2.289522\n"
     ]
    },
    {
     "data": {
      "text/plain": [
       "MAE: 2.293207"
      ]
     },
     "execution_count": 8,
     "metadata": {},
     "output_type": "execute_result"
    }
   ],
   "source": [
    "from creme import ensemble\n",
    "from creme import optim\n",
    "\n",
    "model = compose.Whitelister('clouds', 'humidity', 'pressure', 'temperature', 'wind')\n",
    "model += (\n",
    "    get_hour |\n",
    "    feature_extraction.TargetAgg(by=['station', 'hour'], how=stats.Mean())\n",
    ")\n",
    "model += feature_extraction.TargetAgg(by='station', how=stats.EWMean(0.5))\n",
    "model |= preprocessing.StandardScaler()\n",
    "model |= ensemble.HedgeRegressor([\n",
    "    linear_model.LinearRegression(optim.SGD()),\n",
    "    linear_model.LinearRegression(optim.RMSProp()),\n",
    "    linear_model.LinearRegression(optim.Adam())\n",
    "])\n",
    "\n",
    "model_selection.online_qa_score(\n",
    "    X_y=datasets.fetch_bikes(),\n",
    "    model=model,\n",
    "    metric=metrics.MAE(),\n",
    "    on='moment',\n",
    "    lag=dt.timedelta(minutes=30),\n",
    "    print_every=20_000\n",
    ")"
   ]
  }
 ],
 "metadata": {
  "kernelspec": {
   "display_name": "Python 3",
   "language": "python",
   "name": "python3"
  },
  "language_info": {
   "codemirror_mode": {
    "name": "ipython",
    "version": 3
   },
   "file_extension": ".py",
   "mimetype": "text/x-python",
   "name": "python",
   "nbconvert_exporter": "python",
   "pygments_lexer": "ipython3",
   "version": "3.7.3"
  }
 },
 "nbformat": 4,
 "nbformat_minor": 2
}
