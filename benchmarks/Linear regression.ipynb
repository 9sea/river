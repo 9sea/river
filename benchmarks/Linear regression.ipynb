{
 "cells": [
  {
   "cell_type": "markdown",
   "metadata": {},
   "source": [
    "# Linear regression"
   ]
  },
  {
   "cell_type": "markdown",
   "metadata": {},
   "source": [
    "This notebook compares various linear regression implementations. The dataset used is the [Toulouse bike sharing dataset](https://creme-ml.github.io/generated/creme.datasets.fetch_bikes.html#creme.datasets.fetch_bikes)."
   ]
  },
  {
   "cell_type": "code",
   "execution_count": 28,
   "metadata": {},
   "outputs": [
    {
     "name": "stdout",
     "output_type": "stream",
     "text": [
      "Tue Aug 20 2019 \n",
      "\n",
      "CPython 3.7.3\n",
      "IPython 7.4.0\n",
      "\n",
      "creme 0.3.0\n",
      "keras 2.2.4\n",
      "sklearn 0.20.3\n",
      "tensorflow 1.14.0\n",
      "torch 1.1.0\n",
      "\n",
      "compiler   : GCC 7.3.0\n",
      "system     : Linux\n",
      "release    : 5.1.9-arch1-1-ARCH\n",
      "machine    : x86_64\n",
      "processor  : \n",
      "CPU cores  : 8\n",
      "interpreter: 64bit\n"
     ]
    }
   ],
   "source": [
    "%load_ext watermark\n",
    "%watermark --python --machine --packages creme,keras,sklearn,tensorflow,torch --datename"
   ]
  },
  {
   "cell_type": "code",
   "execution_count": 11,
   "metadata": {},
   "outputs": [],
   "source": [
    "from creme import compose\n",
    "from creme import datasets\n",
    "from creme import feature_extraction\n",
    "from creme import linear_model\n",
    "from creme import metrics\n",
    "from creme import optim\n",
    "from creme import preprocessing\n",
    "from creme import stats\n",
    "from keras import layers\n",
    "from keras import models\n",
    "from keras import optimizers\n",
    "from sklearn import linear_model as sk_linear_model\n",
    "import torch\n",
    "\n",
    "%run utils.py\n",
    "%run wrappers.py"
   ]
  },
  {
   "cell_type": "code",
   "execution_count": 12,
   "metadata": {},
   "outputs": [
    {
     "data": {
      "application/vnd.jupyter.widget-view+json": {
       "model_id": "d6bc6fbb4a87468f9d42046b6574f424",
       "version_major": 2,
       "version_minor": 0
      },
      "text/plain": [
       "HBox(children=(IntProgress(value=0, max=4), HTML(value='')))"
      ]
     },
     "metadata": {},
     "output_type": "display_data"
    },
    {
     "data": {
      "application/vnd.jupyter.widget-view+json": {
       "model_id": "8423b171b7064cd5876dc00a4ebee1b8",
       "version_major": 2,
       "version_minor": 0
      },
      "text/plain": [
       "HBox(children=(IntProgress(value=0, max=182470), HTML(value='')))"
      ]
     },
     "metadata": {},
     "output_type": "display_data"
    },
    {
     "data": {
      "application/vnd.jupyter.widget-view+json": {
       "model_id": "bc68a49990d14ce8beed64e8861d36d3",
       "version_major": 2,
       "version_minor": 0
      },
      "text/plain": [
       "HBox(children=(IntProgress(value=0, max=182470), HTML(value='')))"
      ]
     },
     "metadata": {},
     "output_type": "display_data"
    },
    {
     "data": {
      "application/vnd.jupyter.widget-view+json": {
       "model_id": "2db872815aeb4815860877aa38402200",
       "version_major": 2,
       "version_minor": 0
      },
      "text/plain": [
       "HBox(children=(IntProgress(value=0, max=182470), HTML(value='')))"
      ]
     },
     "metadata": {},
     "output_type": "display_data"
    },
    {
     "data": {
      "application/vnd.jupyter.widget-view+json": {
       "model_id": "23856b8b4bb84c19bb2fb362bee055d3",
       "version_major": 2,
       "version_minor": 0
      },
      "text/plain": [
       "HBox(children=(IntProgress(value=0, max=182470), HTML(value='')))"
      ]
     },
     "metadata": {},
     "output_type": "display_data"
    },
    {
     "name": "stderr",
     "output_type": "stream",
     "text": [
      "W0820 13:54:40.275430 139959188182848 deprecation_wrapper.py:119] From /home/max/anaconda3/lib/python3.7/site-packages/keras/backend/tensorflow_backend.py:2741: The name tf.Session is deprecated. Please use tf.compat.v1.Session instead.\n",
      "\n",
      "W0820 13:54:40.280425 139959188182848 deprecation_wrapper.py:119] From /home/max/anaconda3/lib/python3.7/site-packages/keras/backend/tensorflow_backend.py:174: The name tf.get_default_session is deprecated. Please use tf.compat.v1.get_default_session instead.\n",
      "\n",
      "W0820 13:54:40.281914 139959188182848 deprecation_wrapper.py:119] From /home/max/anaconda3/lib/python3.7/site-packages/keras/backend/tensorflow_backend.py:181: The name tf.ConfigProto is deprecated. Please use tf.compat.v1.ConfigProto instead.\n",
      "\n"
     ]
    },
    {
     "name": "stdout",
     "output_type": "stream",
     "text": [
      "\n"
     ]
    }
   ],
   "source": [
    "n_features = 6\n",
    "lr = 0.005\n",
    "\n",
    "class PyTorchNet(torch.nn.Module):\n",
    "    \n",
    "    def __init__(self, n_features):\n",
    "        super().__init__()\n",
    "        self.linear = torch.nn.Linear(n_features, 1)\n",
    "        torch.nn.init.constant_(self.linear.weight, 0)\n",
    "        torch.nn.init.constant_(self.linear.bias, 0)\n",
    "        \n",
    "    def forward(self, x):\n",
    "        return self.linear(x)\n",
    "    \n",
    "torch_model = PyTorchNet(n_features=n_features)\n",
    "\n",
    "# Keras\n",
    "inputs = layers.Input(shape=(n_features,))\n",
    "predictions = layers.Dense(1, kernel_initializer='zeros', bias_initializer='zeros')(inputs)\n",
    "keras_model = models.Model(inputs=inputs, outputs=predictions)\n",
    "keras_model.compile(optimizer=optimizers.SGD(lr=lr), loss='mean_squared_error')\n",
    "\n",
    "\n",
    "def add_hour(x):\n",
    "    x['hour'] = x['moment'].hour\n",
    "    return x\n",
    "\n",
    "results = benchmark(\n",
    "    get_X_y=datasets.fetch_bikes,\n",
    "    n=182470,\n",
    "    get_pp=lambda: (\n",
    "        compose.Whitelister('clouds', 'humidity', 'pressure', 'temperature', 'wind') +\n",
    "        (\n",
    "            add_hour |\n",
    "            feature_extraction.TargetAgg(by=['station', 'hour'], how=stats.Mean())\n",
    "        ) |\n",
    "        preprocessing.StandardScaler()\n",
    "    ),\n",
    "    models=[\n",
    "        ('creme', 'LinearRegression', linear_model.LinearRegression(\n",
    "            optimizer=optim.SGD(lr),\n",
    "            l2=0.,\n",
    "            intercept_lr=lr\n",
    "        )),\n",
    "        ('scikit-learn', 'SGDRegressor', ScikitLearnRegressor(\n",
    "            model=sk_linear_model.SGDRegressor(\n",
    "                learning_rate='constant',\n",
    "                eta0=lr,\n",
    "                penalty='none'\n",
    "            ),\n",
    "        )),\n",
    "        ('PyTorch (CPU)', 'Linear', PyTorchRegressor(\n",
    "            network=torch_model,\n",
    "            loss_fn=torch.nn.MSELoss(),\n",
    "            optimizer=torch.optim.SGD(torch_model.parameters(), lr=lr)\n",
    "        )),\n",
    "        ('Keras on Tensorflow (CPU)', 'Dense', KerasRegressor(\n",
    "            model=keras_model\n",
    "        )),\n",
    "    ],\n",
    "    get_metric=metrics.MSE\n",
    ")"
   ]
  },
  {
   "cell_type": "code",
   "execution_count": 26,
   "metadata": {},
   "outputs": [
    {
     "data": {
      "text/html": [
       "<div>\n",
       "<style scoped>\n",
       "    .dataframe tbody tr th:only-of-type {\n",
       "        vertical-align: middle;\n",
       "    }\n",
       "\n",
       "    .dataframe tbody tr th {\n",
       "        vertical-align: top;\n",
       "    }\n",
       "\n",
       "    .dataframe thead th {\n",
       "        text-align: right;\n",
       "    }\n",
       "</style>\n",
       "<table border=\"1\" class=\"dataframe\">\n",
       "  <thead>\n",
       "    <tr style=\"text-align: right;\">\n",
       "      <th></th>\n",
       "      <th>Library</th>\n",
       "      <th>Model</th>\n",
       "      <th>MSE</th>\n",
       "      <th>Fit time</th>\n",
       "      <th>Average fit time</th>\n",
       "      <th>Predict time</th>\n",
       "      <th>Average predict time</th>\n",
       "    </tr>\n",
       "  </thead>\n",
       "  <tbody>\n",
       "    <tr>\n",
       "      <th>0</th>\n",
       "      <td>creme</td>\n",
       "      <td>LinearRegression</td>\n",
       "      <td>23.035085</td>\n",
       "      <td>2s, 961ms, 90μs, 750ns</td>\n",
       "      <td>16μs, 228ns</td>\n",
       "      <td>932ms, 944μs, 854ns</td>\n",
       "      <td>5μs, 113ns</td>\n",
       "    </tr>\n",
       "    <tr>\n",
       "      <th>1</th>\n",
       "      <td>scikit-learn</td>\n",
       "      <td>SGD</td>\n",
       "      <td>25.295369</td>\n",
       "      <td>43s, 78ms, 345μs, 590ns</td>\n",
       "      <td>236μs, 85ns</td>\n",
       "      <td>17s, 515ms, 602μs, 700ns</td>\n",
       "      <td>95μs, 992ns</td>\n",
       "    </tr>\n",
       "    <tr>\n",
       "      <th>2</th>\n",
       "      <td>PyTorch (CPU)</td>\n",
       "      <td>Linear</td>\n",
       "      <td>23.035086</td>\n",
       "      <td>2m, 7s, 300ms, 182μs, 229ns</td>\n",
       "      <td>697μs, 650ns</td>\n",
       "      <td>43s, 140ms, 822μs, 95ns</td>\n",
       "      <td>236μs, 427ns</td>\n",
       "    </tr>\n",
       "    <tr>\n",
       "      <th>3</th>\n",
       "      <td>Keras on Tensorflow (CPU)</td>\n",
       "      <td>Linear</td>\n",
       "      <td>23.035086</td>\n",
       "      <td>4m, 4s, 177ms, 471μs, 22ns</td>\n",
       "      <td>1ms, 338μs, 179ns</td>\n",
       "      <td>2m, 28s, 629ms, 461μs, 634ns</td>\n",
       "      <td>814μs, 542ns</td>\n",
       "    </tr>\n",
       "  </tbody>\n",
       "</table>\n",
       "</div>"
      ],
      "text/plain": [
       "                     Library             Model        MSE  \\\n",
       "0                      creme  LinearRegression  23.035085   \n",
       "1               scikit-learn               SGD  25.295369   \n",
       "2              PyTorch (CPU)            Linear  23.035086   \n",
       "3  Keras on Tensorflow (CPU)            Linear  23.035086   \n",
       "\n",
       "                      Fit time   Average fit time  \\\n",
       "0       2s, 961ms, 90μs, 750ns        16μs, 228ns   \n",
       "1      43s, 78ms, 345μs, 590ns        236μs, 85ns   \n",
       "2  2m, 7s, 300ms, 182μs, 229ns       697μs, 650ns   \n",
       "3   4m, 4s, 177ms, 471μs, 22ns  1ms, 338μs, 179ns   \n",
       "\n",
       "                   Predict time Average predict time  \n",
       "0           932ms, 944μs, 854ns           5μs, 113ns  \n",
       "1      17s, 515ms, 602μs, 700ns          95μs, 992ns  \n",
       "2       43s, 140ms, 822μs, 95ns         236μs, 427ns  \n",
       "3  2m, 28s, 629ms, 461μs, 634ns         814μs, 542ns  "
      ]
     },
     "execution_count": 26,
     "metadata": {},
     "output_type": "execute_result"
    }
   ],
   "source": [
    "results"
   ]
  }
 ],
 "metadata": {
  "kernelspec": {
   "display_name": "Python 3",
   "language": "python",
   "name": "python3"
  },
  "language_info": {
   "codemirror_mode": {
    "name": "ipython",
    "version": 3
   },
   "file_extension": ".py",
   "mimetype": "text/x-python",
   "name": "python",
   "nbconvert_exporter": "python",
   "pygments_lexer": "ipython3",
   "version": "3.7.3"
  }
 },
 "nbformat": 4,
 "nbformat_minor": 2
}
