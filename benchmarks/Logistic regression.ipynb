{
 "cells": [
  {
   "cell_type": "markdown",
   "metadata": {},
   "source": [
    "## Logistic regression"
   ]
  },
  {
   "cell_type": "markdown",
   "metadata": {},
   "source": [
    "This notebook compares various logistic regression implementations. The dataset used is the [New South Wales electricity price dataset](https://creme-ml.github.io/generated/creme.datasets.fetch_electricity.html#creme.datasets.fetch_electricity)."
   ]
  },
  {
   "cell_type": "code",
   "execution_count": 18,
   "metadata": {},
   "outputs": [
    {
     "name": "stdout",
     "output_type": "stream",
     "text": [
      "Tue Aug 20 2019 \n",
      "\n",
      "CPython 3.7.3\n",
      "IPython 7.4.0\n",
      "\n",
      "creme 0.3.0\n",
      "keras 2.2.4\n",
      "sklearn 0.20.3\n",
      "tensorflow 1.14.0\n",
      "torch 1.1.0\n",
      "\n",
      "compiler   : GCC 7.3.0\n",
      "system     : Linux\n",
      "release    : 5.1.9-arch1-1-ARCH\n",
      "machine    : x86_64\n",
      "processor  : \n",
      "CPU cores  : 8\n",
      "interpreter: 64bit\n"
     ]
    }
   ],
   "source": [
    "%load_ext watermark\n",
    "%watermark --python --machine --packages creme,keras,sklearn,tensorflow,torch --datename"
   ]
  },
  {
   "cell_type": "code",
   "execution_count": 16,
   "metadata": {},
   "outputs": [],
   "source": [
    "from creme import datasets\n",
    "from creme import linear_model\n",
    "from creme import metrics\n",
    "from creme import optim\n",
    "from creme import preprocessing\n",
    "from keras import layers\n",
    "from keras import models\n",
    "from keras import optimizers\n",
    "from sklearn import linear_model as sk_linear_model\n",
    "import torch\n",
    "\n",
    "%run utils.py\n",
    "%run wrappers.py"
   ]
  },
  {
   "cell_type": "code",
   "execution_count": 17,
   "metadata": {},
   "outputs": [
    {
     "data": {
      "application/vnd.jupyter.widget-view+json": {
       "model_id": "b10e2f3add634f39ab2249c80cbf4bc1",
       "version_major": 2,
       "version_minor": 0
      },
      "text/plain": [
       "HBox(children=(IntProgress(value=0, max=4), HTML(value='')))"
      ]
     },
     "metadata": {},
     "output_type": "display_data"
    },
    {
     "data": {
      "application/vnd.jupyter.widget-view+json": {
       "model_id": "8a83ba70146b44dda2a8233b933b0e22",
       "version_major": 2,
       "version_minor": 0
      },
      "text/plain": [
       "HBox(children=(IntProgress(value=0, max=45312), HTML(value='')))"
      ]
     },
     "metadata": {},
     "output_type": "display_data"
    },
    {
     "data": {
      "application/vnd.jupyter.widget-view+json": {
       "model_id": "bed88393feb140f68f0c77b0c0bda3d2",
       "version_major": 2,
       "version_minor": 0
      },
      "text/plain": [
       "HBox(children=(IntProgress(value=0, max=45312), HTML(value='')))"
      ]
     },
     "metadata": {},
     "output_type": "display_data"
    },
    {
     "data": {
      "application/vnd.jupyter.widget-view+json": {
       "model_id": "e0d1f6429fe04b0db9a0b74edc69d78d",
       "version_major": 2,
       "version_minor": 0
      },
      "text/plain": [
       "HBox(children=(IntProgress(value=0, max=45312), HTML(value='')))"
      ]
     },
     "metadata": {},
     "output_type": "display_data"
    },
    {
     "data": {
      "application/vnd.jupyter.widget-view+json": {
       "model_id": "a6c76c139c2546e6afe6806647a5521d",
       "version_major": 2,
       "version_minor": 0
      },
      "text/plain": [
       "HBox(children=(IntProgress(value=0, max=45312), HTML(value='')))"
      ]
     },
     "metadata": {},
     "output_type": "display_data"
    },
    {
     "name": "stdout",
     "output_type": "stream",
     "text": [
      "\n"
     ]
    }
   ],
   "source": [
    "n_features = 8\n",
    "lr = 0.005\n",
    "\n",
    "# PyTorch\n",
    "class PyTorchNet(torch.nn.Module):\n",
    "    \n",
    "    def __init__(self, n_features):\n",
    "        super().__init__()\n",
    "        self.linear = torch.nn.Linear(n_features, 1)\n",
    "        self.sigmoid = torch.nn.Sigmoid()\n",
    "        torch.nn.init.constant_(self.linear.weight, 0)\n",
    "        torch.nn.init.constant_(self.linear.bias, 0)\n",
    "        \n",
    "    def forward(self, x):\n",
    "        return self.sigmoid(self.linear(x))\n",
    "    \n",
    "torch_model = PyTorchNet(n_features=n_features)\n",
    "\n",
    "# Keras\n",
    "inputs = layers.Input(shape=(n_features,))\n",
    "predictions = layers.Dense(1, activation='sigmoid', kernel_initializer='zeros', bias_initializer='zeros')(inputs)\n",
    "keras_model = models.Model(inputs=inputs, outputs=predictions)\n",
    "keras_model.compile(optimizer=optimizers.SGD(lr=lr), loss='binary_crossentropy')\n",
    "\n",
    "\n",
    "def add_hour(x):\n",
    "    x['hour'] = x['moment'].hour\n",
    "    return x\n",
    "\n",
    "results = benchmark(\n",
    "    get_X_y=datasets.fetch_electricity,\n",
    "    n=45312,\n",
    "    get_pp=preprocessing.StandardScaler,\n",
    "    models=[\n",
    "        ('creme', 'LogisticRegression', linear_model.LogisticRegression(\n",
    "            optimizer=optim.SGD(lr),\n",
    "            l2=0.,\n",
    "            intercept_lr=lr\n",
    "        )),\n",
    "\n",
    "        ('scikit-learn', 'SGDClassifier', ScikitLearnClassifier(\n",
    "            model=sk_linear_model.SGDClassifier(\n",
    "                loss='log',\n",
    "                learning_rate='constant',\n",
    "                eta0=lr,\n",
    "                penalty='none'\n",
    "            ),\n",
    "            classes=[False, True]\n",
    "        )),\n",
    "        \n",
    "        ('PyTorch (CPU)', 'Linear', PyTorchBinaryClassifier(\n",
    "            network=torch_model,\n",
    "            loss_fn=torch.nn.BCELoss(),\n",
    "            optimizer=torch.optim.SGD(torch_model.parameters(), lr=lr)\n",
    "        )),\n",
    "        \n",
    "        ('Keras on Tensorflow (CPU)', 'Dense', KerasBinaryClassifier(\n",
    "            model=keras_model\n",
    "        )),\n",
    "        \n",
    "    ],\n",
    "    get_metric=metrics.LogLoss\n",
    ")"
   ]
  },
  {
   "cell_type": "code",
   "execution_count": 14,
   "metadata": {},
   "outputs": [
    {
     "data": {
      "text/html": [
       "<div>\n",
       "<style scoped>\n",
       "    .dataframe tbody tr th:only-of-type {\n",
       "        vertical-align: middle;\n",
       "    }\n",
       "\n",
       "    .dataframe tbody tr th {\n",
       "        vertical-align: top;\n",
       "    }\n",
       "\n",
       "    .dataframe thead th {\n",
       "        text-align: right;\n",
       "    }\n",
       "</style>\n",
       "<table border=\"1\" class=\"dataframe\">\n",
       "  <thead>\n",
       "    <tr style=\"text-align: right;\">\n",
       "      <th></th>\n",
       "      <th>Library</th>\n",
       "      <th>Model</th>\n",
       "      <th>LogLoss</th>\n",
       "      <th>Fit time</th>\n",
       "      <th>Average fit time</th>\n",
       "      <th>Predict time</th>\n",
       "      <th>Average predict time</th>\n",
       "    </tr>\n",
       "  </thead>\n",
       "  <tbody>\n",
       "    <tr>\n",
       "      <th>0</th>\n",
       "      <td>creme</td>\n",
       "      <td>LogisticRegression</td>\n",
       "      <td>0.413533</td>\n",
       "      <td>704ms, 19μs, 145ns</td>\n",
       "      <td>15μs, 537ns</td>\n",
       "      <td>243ms, 295μs, 847ns</td>\n",
       "      <td>5μs, 369ns</td>\n",
       "    </tr>\n",
       "    <tr>\n",
       "      <th>1</th>\n",
       "      <td>scikit-learn</td>\n",
       "      <td>SGD</td>\n",
       "      <td>0.413533</td>\n",
       "      <td>15s, 461ms, 23μs, 898ns</td>\n",
       "      <td>341μs, 213ns</td>\n",
       "      <td>6s, 470ms, 878μs, 136ns</td>\n",
       "      <td>142μs, 807ns</td>\n",
       "    </tr>\n",
       "    <tr>\n",
       "      <th>2</th>\n",
       "      <td>PyTorch (CPU)</td>\n",
       "      <td>Linear</td>\n",
       "      <td>0.418901</td>\n",
       "      <td>38s, 689ms, 746μs, 772ns</td>\n",
       "      <td>853μs, 852ns</td>\n",
       "      <td>14s, 359ms, 296μs, 803ns</td>\n",
       "      <td>316μs, 898ns</td>\n",
       "    </tr>\n",
       "    <tr>\n",
       "      <th>3</th>\n",
       "      <td>Keras on Tensorflow (CPU)</td>\n",
       "      <td>Linear</td>\n",
       "      <td>0.418901</td>\n",
       "      <td>1m, 16s, 304ms, 341μs, 400ns</td>\n",
       "      <td>1ms, 683μs, 976ns</td>\n",
       "      <td>39s, 700ms, 439μs, 782ns</td>\n",
       "      <td>876μs, 157ns</td>\n",
       "    </tr>\n",
       "  </tbody>\n",
       "</table>\n",
       "</div>"
      ],
      "text/plain": [
       "                     Library               Model   LogLoss  \\\n",
       "0                      creme  LogisticRegression  0.413533   \n",
       "1               scikit-learn                 SGD  0.413533   \n",
       "2              PyTorch (CPU)              Linear  0.418901   \n",
       "3  Keras on Tensorflow (CPU)              Linear  0.418901   \n",
       "\n",
       "                       Fit time   Average fit time              Predict time  \\\n",
       "0            704ms, 19μs, 145ns        15μs, 537ns       243ms, 295μs, 847ns   \n",
       "1       15s, 461ms, 23μs, 898ns       341μs, 213ns   6s, 470ms, 878μs, 136ns   \n",
       "2      38s, 689ms, 746μs, 772ns       853μs, 852ns  14s, 359ms, 296μs, 803ns   \n",
       "3  1m, 16s, 304ms, 341μs, 400ns  1ms, 683μs, 976ns  39s, 700ms, 439μs, 782ns   \n",
       "\n",
       "  Average predict time  \n",
       "0           5μs, 369ns  \n",
       "1         142μs, 807ns  \n",
       "2         316μs, 898ns  \n",
       "3         876μs, 157ns  "
      ]
     },
     "execution_count": 14,
     "metadata": {},
     "output_type": "execute_result"
    }
   ],
   "source": [
    "results"
   ]
  }
 ],
 "metadata": {
  "kernelspec": {
   "display_name": "Python 3",
   "language": "python",
   "name": "python3"
  },
  "language_info": {
   "codemirror_mode": {
    "name": "ipython",
    "version": 3
   },
   "file_extension": ".py",
   "mimetype": "text/x-python",
   "name": "python",
   "nbconvert_exporter": "python",
   "pygments_lexer": "ipython3",
   "version": "3.7.3"
  }
 },
 "nbformat": 4,
 "nbformat_minor": 2
}
