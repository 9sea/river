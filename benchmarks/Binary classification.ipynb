{
 "cells": [
  {
   "cell_type": "markdown",
   "metadata": {},
   "source": [
    "# Binary classification benchmark"
   ]
  },
  {
   "cell_type": "markdown",
   "metadata": {},
   "source": [
    "This notebook compares binary classification models from various libraries. The dataset used is the [Higgs dataset](https://archive.ics.uci.edu/ml/datasets/HIGGS)."
   ]
  },
  {
   "cell_type": "code",
   "execution_count": 2,
   "metadata": {},
   "outputs": [
    {
     "name": "stdout",
     "output_type": "stream",
     "text": [
      "The watermark extension is already loaded. To reload it, use:\n",
      "  %reload_ext watermark\n",
      "Sun Oct 06 2019 \n",
      "\n",
      "CPython 3.7.4\n",
      "IPython 7.4.0\n",
      "\n",
      "creme 0.3.0\n",
      "keras 2.2.4\n",
      "skgarden 0.1.2\n",
      "sklearn 0.21.3\n",
      "tensorflow 1.14.0\n",
      "torch 1.1.0\n",
      "\n",
      "compiler   : GCC 7.3.0\n",
      "system     : Linux\n",
      "release    : 5.2.10-arch1-1-ARCH\n",
      "machine    : x86_64\n",
      "processor  : \n",
      "CPU cores  : 8\n",
      "interpreter: 64bit\n"
     ]
    }
   ],
   "source": [
    "%load_ext watermark\n",
    "%watermark --python --machine --packages creme,keras,skgarden,sklearn,tensorflow,torch --datename"
   ]
  },
  {
   "cell_type": "code",
   "execution_count": 16,
   "metadata": {},
   "outputs": [],
   "source": [
    "from creme import compose\n",
    "from creme import feature_extraction\n",
    "from creme import linear_model\n",
    "from creme import metrics\n",
    "from creme import neighbors\n",
    "from creme import optim\n",
    "from creme import preprocessing\n",
    "from creme import stats\n",
    "from creme import stream\n",
    "from creme import tree\n",
    "from keras import layers\n",
    "from keras import models\n",
    "from keras import optimizers\n",
    "import numpy as np\n",
    "import skgarden\n",
    "from sklearn import linear_model as sk_linear_model\n",
    "import torch\n",
    "\n",
    "%run utils.py\n",
    "%run wrappers.py"
   ]
  },
  {
   "cell_type": "code",
   "execution_count": 17,
   "metadata": {},
   "outputs": [
    {
     "data": {
      "application/vnd.jupyter.widget-view+json": {
       "model_id": "4130ad5fb30e46f9bfde99efe5353c9a",
       "version_major": 2,
       "version_minor": 0
      },
      "text/plain": [
       "HBox(children=(IntProgress(value=0, max=9), HTML(value='')))"
      ]
     },
     "metadata": {},
     "output_type": "display_data"
    },
    {
     "data": {
      "application/vnd.jupyter.widget-view+json": {
       "model_id": "8d894158f24b44afa52af45643b4187f",
       "version_major": 2,
       "version_minor": 0
      },
      "text/plain": [
       "HBox(children=(IntProgress(value=0, max=100000), HTML(value='')))"
      ]
     },
     "metadata": {},
     "output_type": "display_data"
    },
    {
     "name": "stdout",
     "output_type": "stream",
     "text": [
      "\n"
     ]
    },
    {
     "data": {
      "application/vnd.jupyter.widget-view+json": {
       "model_id": "3356e7d883bc407486b3b92731111bc2",
       "version_major": 2,
       "version_minor": 0
      },
      "text/plain": [
       "HBox(children=(IntProgress(value=0, max=100000), HTML(value='')))"
      ]
     },
     "metadata": {},
     "output_type": "display_data"
    },
    {
     "name": "stdout",
     "output_type": "stream",
     "text": [
      "\n"
     ]
    },
    {
     "data": {
      "application/vnd.jupyter.widget-view+json": {
       "model_id": "82c8f5920cf947e1a46001b678448561",
       "version_major": 2,
       "version_minor": 0
      },
      "text/plain": [
       "HBox(children=(IntProgress(value=0, max=100000), HTML(value='')))"
      ]
     },
     "metadata": {},
     "output_type": "display_data"
    },
    {
     "name": "stdout",
     "output_type": "stream",
     "text": [
      "\n"
     ]
    },
    {
     "data": {
      "application/vnd.jupyter.widget-view+json": {
       "model_id": "7303ee2e2bc44787b488144c67de6d5d",
       "version_major": 2,
       "version_minor": 0
      },
      "text/plain": [
       "HBox(children=(IntProgress(value=0, max=100000), HTML(value='')))"
      ]
     },
     "metadata": {},
     "output_type": "display_data"
    },
    {
     "name": "stderr",
     "output_type": "stream",
     "text": [
      "W1006 21:40:48.473205 139676324894528 deprecation_wrapper.py:119] From /home/max/anaconda3/lib/python3.7/site-packages/keras/backend/tensorflow_backend.py:2741: The name tf.Session is deprecated. Please use tf.compat.v1.Session instead.\n",
      "\n",
      "W1006 21:40:48.483894 139676324894528 deprecation_wrapper.py:119] From /home/max/anaconda3/lib/python3.7/site-packages/keras/backend/tensorflow_backend.py:174: The name tf.get_default_session is deprecated. Please use tf.compat.v1.get_default_session instead.\n",
      "\n"
     ]
    },
    {
     "name": "stdout",
     "output_type": "stream",
     "text": [
      "\n"
     ]
    },
    {
     "data": {
      "application/vnd.jupyter.widget-view+json": {
       "model_id": "e1bd88de61e044a5810cc710b329ac41",
       "version_major": 2,
       "version_minor": 0
      },
      "text/plain": [
       "HBox(children=(IntProgress(value=0, max=100000), HTML(value='')))"
      ]
     },
     "metadata": {},
     "output_type": "display_data"
    },
    {
     "name": "stdout",
     "output_type": "stream",
     "text": [
      "\n"
     ]
    },
    {
     "data": {
      "application/vnd.jupyter.widget-view+json": {
       "model_id": "b466876b5fbc44619842318df99db48d",
       "version_major": 2,
       "version_minor": 0
      },
      "text/plain": [
       "HBox(children=(IntProgress(value=0, max=100000), HTML(value='')))"
      ]
     },
     "metadata": {},
     "output_type": "display_data"
    },
    {
     "name": "stdout",
     "output_type": "stream",
     "text": [
      "\n"
     ]
    },
    {
     "data": {
      "application/vnd.jupyter.widget-view+json": {
       "model_id": "7570edf7bbf44d979a05426e5a7d24bf",
       "version_major": 2,
       "version_minor": 0
      },
      "text/plain": [
       "HBox(children=(IntProgress(value=0, max=100000), HTML(value='')))"
      ]
     },
     "metadata": {},
     "output_type": "display_data"
    },
    {
     "name": "stdout",
     "output_type": "stream",
     "text": [
      "\n"
     ]
    },
    {
     "data": {
      "application/vnd.jupyter.widget-view+json": {
       "model_id": "4ee7e1bf859e465ba5be224b4a404197",
       "version_major": 2,
       "version_minor": 0
      },
      "text/plain": [
       "HBox(children=(IntProgress(value=0, max=100000), HTML(value='')))"
      ]
     },
     "metadata": {},
     "output_type": "display_data"
    },
    {
     "name": "stdout",
     "output_type": "stream",
     "text": [
      "\n"
     ]
    },
    {
     "data": {
      "application/vnd.jupyter.widget-view+json": {
       "model_id": "a71db50742a2431fbb2f719558e2a507",
       "version_major": 2,
       "version_minor": 0
      },
      "text/plain": [
       "HBox(children=(IntProgress(value=0, max=100000), HTML(value='')))"
      ]
     },
     "metadata": {},
     "output_type": "display_data"
    },
    {
     "name": "stdout",
     "output_type": "stream",
     "text": [
      "\n",
      "\n"
     ]
    }
   ],
   "source": [
    "n_features = 28\n",
    "\n",
    "class PyTorchNet(torch.nn.Module):\n",
    "    \n",
    "    def __init__(self, n_features):\n",
    "        super().__init__()\n",
    "        self.linear = torch.nn.Linear(n_features, 1)\n",
    "        self.sigmoid = torch.nn.Sigmoid()\n",
    "        torch.nn.init.constant_(self.linear.weight, 0)\n",
    "        torch.nn.init.constant_(self.linear.bias, 0)\n",
    "        \n",
    "    def forward(self, x):\n",
    "        return self.sigmoid(self.linear(x))\n",
    "    \n",
    "torch_model = PyTorchNet(n_features=n_features)\n",
    "\n",
    "# Keras\n",
    "inputs = layers.Input(shape=(n_features,))\n",
    "predictions = layers.Dense(1, activation='sigmoid', kernel_initializer='zeros', bias_initializer='zeros')(inputs)\n",
    "keras_model = models.Model(inputs=inputs, outputs=predictions)\n",
    "keras_model.compile(optimizer=optimizers.SGD(), loss='binary_crossentropy')\n",
    "\n",
    "names = [\n",
    "    'is_signal',\n",
    "    'lepton pT', 'lepton eta','lepton phi',\n",
    "    'missing energy magnitude', 'missing energy phi', 'jet 1 pt',\n",
    "    'jet 1 eta', 'jet 1 phi', 'jet 1 b-tag',\n",
    "    'jet 2 pt', 'jet 2 eta', 'jet 2 phi',\n",
    "    'jet 2 b-tag', 'jet 3 pt', 'jet 3 eta',\n",
    "    'jet 3 phi', 'jet 3 b-tag', 'jet 4 pt',\n",
    "    'jet 4 eta', 'jet 4 phi', 'jet 4 b-tag',\n",
    "    'm_jj', 'm_jjj', 'm_lv', 'm_jlv',\n",
    "    'm_bb', 'm_wbb', 'm_wwbb'\n",
    "]\n",
    "converters = {name: float for name in names}\n",
    "converters['is_signal'] = lambda x: bool(float(x))\n",
    "\n",
    "\n",
    "import itertools\n",
    "\n",
    "n = 100_000 # 11_000_000\n",
    "\n",
    "get_X_y = lambda: itertools.islice(stream.iter_csv('HIGGS.csv.gz', names=names, target_name='is_signal', converters=converters), n)\n",
    "\n",
    "results = benchmark(\n",
    "    get_X_y=get_X_y,\n",
    "    n=n,\n",
    "    get_pp=preprocessing.StandardScaler,\n",
    "    models=[\n",
    "        ('creme', 'LogisticRegression', linear_model.LogisticRegression()),\n",
    "        ('creme', 'PAClassifier', linear_model.PAClassifier()),\n",
    "        ('creme', 'DecisionTreeClassifier', tree.DecisionTreeClassifier()),\n",
    "        ('Keras on Tensorflow (CPU)', 'Dense', KerasBinaryClassifier(keras_model)),\n",
    "        ('PyTorch (CPU)', 'Linear', PyTorchBinaryClassifier(\n",
    "            network=torch_model,\n",
    "            loss_fn=torch.nn.BCELoss(),\n",
    "            optimizer=torch.optim.SGD(torch_model.parameters(), lr=0.01)\n",
    "        )),\n",
    "        ('scikit-learn', 'SGDClassifier', ScikitLearnClassifier(\n",
    "            sk_linear_model.SGDClassifier(loss='log'),\n",
    "            classes=[False, True]\n",
    "        )),\n",
    "        ('scikit-learn', 'PassiveAggressiveClassifier', ScikitLearnClassifier(\n",
    "            sk_linear_model.PassiveAggressiveClassifier(),\n",
    "            classes=[False, True]\n",
    "        )),\n",
    "        ('scikit-garden', 'MondrianTreeClassifier', ScikitLearnClassifier(\n",
    "            skgarden.MondrianTreeClassifier(random_state=42),\n",
    "            classes=np.array([False, True])\n",
    "        )),\n",
    "        ('scikit-garden', 'MondrianForestClassifier', ScikitLearnClassifier(\n",
    "            skgarden.MondrianForestClassifier(random_state=42),\n",
    "            classes=np.array([False, True])\n",
    "        ))\n",
    "    ],\n",
    "    get_metric=metrics.Accuracy\n",
    ")"
   ]
  },
  {
   "cell_type": "code",
   "execution_count": 18,
   "metadata": {},
   "outputs": [
    {
     "data": {
      "text/html": [
       "<div>\n",
       "<style scoped>\n",
       "    .dataframe tbody tr th:only-of-type {\n",
       "        vertical-align: middle;\n",
       "    }\n",
       "\n",
       "    .dataframe tbody tr th {\n",
       "        vertical-align: top;\n",
       "    }\n",
       "\n",
       "    .dataframe thead th {\n",
       "        text-align: right;\n",
       "    }\n",
       "</style>\n",
       "<table border=\"1\" class=\"dataframe\">\n",
       "  <thead>\n",
       "    <tr style=\"text-align: right;\">\n",
       "      <th></th>\n",
       "      <th>Library</th>\n",
       "      <th>Model</th>\n",
       "      <th>Accuracy</th>\n",
       "      <th>Fit time</th>\n",
       "      <th>Average fit time</th>\n",
       "      <th>Predict time</th>\n",
       "      <th>Average predict time</th>\n",
       "    </tr>\n",
       "  </thead>\n",
       "  <tbody>\n",
       "    <tr>\n",
       "      <th>0</th>\n",
       "      <td>creme</td>\n",
       "      <td>LogisticRegression</td>\n",
       "      <td>0.61810</td>\n",
       "      <td>2s, 651ms, 809μs, 53ns</td>\n",
       "      <td>26μs, 518ns</td>\n",
       "      <td>1s, 179ms, 271μs, 21ns</td>\n",
       "      <td>11μs, 793ns</td>\n",
       "    </tr>\n",
       "    <tr>\n",
       "      <th>1</th>\n",
       "      <td>creme</td>\n",
       "      <td>PAClassifier</td>\n",
       "      <td>0.55009</td>\n",
       "      <td>3s, 715ms, 139μs, 617ns</td>\n",
       "      <td>37μs, 151ns</td>\n",
       "      <td>2s, 361ms, 426μs, 113ns</td>\n",
       "      <td>23μs, 614ns</td>\n",
       "    </tr>\n",
       "    <tr>\n",
       "      <th>2</th>\n",
       "      <td>creme</td>\n",
       "      <td>DecisionTreeClassifier</td>\n",
       "      <td>0.64663</td>\n",
       "      <td>39s, 148ms, 904μs, 801ns</td>\n",
       "      <td>391μs, 489ns</td>\n",
       "      <td>1s, 698ms, 218μs, 36ns</td>\n",
       "      <td>16μs, 982ns</td>\n",
       "    </tr>\n",
       "    <tr>\n",
       "      <th>3</th>\n",
       "      <td>Keras on Tensorflow (CPU)</td>\n",
       "      <td>Dense</td>\n",
       "      <td>0.61840</td>\n",
       "      <td>44s, 389ms, 39μs, 941ns</td>\n",
       "      <td>443μs, 890ns</td>\n",
       "      <td>50s, 460ms, 240μs, 948ns</td>\n",
       "      <td>504μs, 602ns</td>\n",
       "    </tr>\n",
       "    <tr>\n",
       "      <th>4</th>\n",
       "      <td>PyTorch (CPU)</td>\n",
       "      <td>Linear</td>\n",
       "      <td>0.61840</td>\n",
       "      <td>23s, 573ms, 157μs, 809ns</td>\n",
       "      <td>235μs, 732ns</td>\n",
       "      <td>14s, 303ms, 631μs, 398ns</td>\n",
       "      <td>143μs, 36ns</td>\n",
       "    </tr>\n",
       "    <tr>\n",
       "      <th>5</th>\n",
       "      <td>scikit-learn</td>\n",
       "      <td>SGDClassifier</td>\n",
       "      <td>0.56161</td>\n",
       "      <td>28s, 326ms, 176μs, 85ns</td>\n",
       "      <td>283μs, 262ns</td>\n",
       "      <td>7s, 952ms, 237μs, 187ns</td>\n",
       "      <td>79μs, 522ns</td>\n",
       "    </tr>\n",
       "    <tr>\n",
       "      <th>6</th>\n",
       "      <td>scikit-learn</td>\n",
       "      <td>PassiveAggressiveClassifier</td>\n",
       "      <td>0.55009</td>\n",
       "      <td>28s, 439ms, 591μs, 588ns</td>\n",
       "      <td>284μs, 396ns</td>\n",
       "      <td>8s, 266ms, 966μs, 821ns</td>\n",
       "      <td>82μs, 670ns</td>\n",
       "    </tr>\n",
       "    <tr>\n",
       "      <th>7</th>\n",
       "      <td>scikit-garden</td>\n",
       "      <td>MondrianTreeClassifier</td>\n",
       "      <td>0.53875</td>\n",
       "      <td>1m, 1s, 206ms, 916μs, 758ns</td>\n",
       "      <td>612μs, 69ns</td>\n",
       "      <td>15s, 303ms, 194μs, 953ns</td>\n",
       "      <td>153μs, 32ns</td>\n",
       "    </tr>\n",
       "    <tr>\n",
       "      <th>8</th>\n",
       "      <td>scikit-garden</td>\n",
       "      <td>MondrianForestClassifier</td>\n",
       "      <td>0.60061</td>\n",
       "      <td>11m, 58s, 515ms, 475μs, 454ns</td>\n",
       "      <td>7ms, 185μs, 155ns</td>\n",
       "      <td>1m, 29s, 362ms, 415μs, 438ns</td>\n",
       "      <td>893μs, 624ns</td>\n",
       "    </tr>\n",
       "  </tbody>\n",
       "</table>\n",
       "</div>"
      ],
      "text/plain": [
       "                     Library                        Model  Accuracy  \\\n",
       "0                      creme           LogisticRegression   0.61810   \n",
       "1                      creme                 PAClassifier   0.55009   \n",
       "2                      creme       DecisionTreeClassifier   0.64663   \n",
       "3  Keras on Tensorflow (CPU)                        Dense   0.61840   \n",
       "4              PyTorch (CPU)                       Linear   0.61840   \n",
       "5               scikit-learn                SGDClassifier   0.56161   \n",
       "6               scikit-learn  PassiveAggressiveClassifier   0.55009   \n",
       "7              scikit-garden       MondrianTreeClassifier   0.53875   \n",
       "8              scikit-garden     MondrianForestClassifier   0.60061   \n",
       "\n",
       "                        Fit time   Average fit time  \\\n",
       "0         2s, 651ms, 809μs, 53ns        26μs, 518ns   \n",
       "1        3s, 715ms, 139μs, 617ns        37μs, 151ns   \n",
       "2       39s, 148ms, 904μs, 801ns       391μs, 489ns   \n",
       "3        44s, 389ms, 39μs, 941ns       443μs, 890ns   \n",
       "4       23s, 573ms, 157μs, 809ns       235μs, 732ns   \n",
       "5        28s, 326ms, 176μs, 85ns       283μs, 262ns   \n",
       "6       28s, 439ms, 591μs, 588ns       284μs, 396ns   \n",
       "7    1m, 1s, 206ms, 916μs, 758ns        612μs, 69ns   \n",
       "8  11m, 58s, 515ms, 475μs, 454ns  7ms, 185μs, 155ns   \n",
       "\n",
       "                   Predict time Average predict time  \n",
       "0        1s, 179ms, 271μs, 21ns          11μs, 793ns  \n",
       "1       2s, 361ms, 426μs, 113ns          23μs, 614ns  \n",
       "2        1s, 698ms, 218μs, 36ns          16μs, 982ns  \n",
       "3      50s, 460ms, 240μs, 948ns         504μs, 602ns  \n",
       "4      14s, 303ms, 631μs, 398ns          143μs, 36ns  \n",
       "5       7s, 952ms, 237μs, 187ns          79μs, 522ns  \n",
       "6       8s, 266ms, 966μs, 821ns          82μs, 670ns  \n",
       "7      15s, 303ms, 194μs, 953ns          153μs, 32ns  \n",
       "8  1m, 29s, 362ms, 415μs, 438ns         893μs, 624ns  "
      ]
     },
     "execution_count": 18,
     "metadata": {},
     "output_type": "execute_result"
    }
   ],
   "source": [
    "results"
   ]
  }
 ],
 "metadata": {
  "kernelspec": {
   "display_name": "Python 3",
   "language": "python",
   "name": "python3"
  },
  "language_info": {
   "codemirror_mode": {
    "name": "ipython",
    "version": 3
   },
   "file_extension": ".py",
   "mimetype": "text/x-python",
   "name": "python",
   "nbconvert_exporter": "python",
   "pygments_lexer": "ipython3",
   "version": "3.7.4"
  }
 },
 "nbformat": 4,
 "nbformat_minor": 2
}
