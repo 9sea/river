{
 "cells": [
  {
   "cell_type": "markdown",
   "metadata": {},
   "source": [
    "# Binary classification benchmark"
   ]
  },
  {
   "cell_type": "markdown",
   "metadata": {},
   "source": [
    "This notebook compares binary classification models from various libraries. The dataset used is the [Higgs dataset](https://archive.ics.uci.edu/ml/datasets/HIGGS)."
   ]
  },
  {
   "cell_type": "code",
   "execution_count": 3,
   "metadata": {},
   "outputs": [
    {
     "name": "stdout",
     "output_type": "stream",
     "text": [
      "The watermark extension is already loaded. To reload it, use:\n",
      "  %reload_ext watermark\n",
      "Mon Oct 07 2019 \n",
      "\n",
      "CPython 3.7.4\n",
      "IPython 7.4.0\n",
      "\n",
      "creme 0.3.0\n",
      "keras 2.2.4\n",
      "skgarden 0.1.2\n",
      "sklearn 0.21.3\n",
      "tensorflow 1.14.0\n",
      "torch 1.1.0\n",
      "\n",
      "compiler   : GCC 7.3.0\n",
      "system     : Linux\n",
      "release    : 5.2.10-arch1-1-ARCH\n",
      "machine    : x86_64\n",
      "processor  : \n",
      "CPU cores  : 8\n",
      "interpreter: 64bit\n"
     ]
    }
   ],
   "source": [
    "%load_ext watermark\n",
    "%watermark --python --machine --packages creme,keras,skgarden,sklearn,tensorflow,torch --datename"
   ]
  },
  {
   "cell_type": "code",
   "execution_count": 4,
   "metadata": {},
   "outputs": [],
   "source": [
    "from creme import compose\n",
    "from creme import feature_extraction\n",
    "from creme import linear_model\n",
    "from creme import metrics\n",
    "from creme import neighbors\n",
    "from creme import optim\n",
    "from creme import preprocessing\n",
    "from creme import stats\n",
    "from creme import stream\n",
    "from creme import tree\n",
    "from keras import layers\n",
    "from keras import models\n",
    "from keras import optimizers\n",
    "import numpy as np\n",
    "import skgarden\n",
    "from sklearn import linear_model as sk_linear_model\n",
    "import torch\n",
    "\n",
    "%run utils.py\n",
    "%run wrappers.py"
   ]
  },
  {
   "cell_type": "code",
   "execution_count": 6,
   "metadata": {},
   "outputs": [
    {
     "data": {
      "application/vnd.jupyter.widget-view+json": {
       "model_id": "2502d33a3a17439ea8c17fd93af45714",
       "version_major": 2,
       "version_minor": 0
      },
      "text/plain": [
       "HBox(children=(IntProgress(value=0, max=10), HTML(value='')))"
      ]
     },
     "metadata": {},
     "output_type": "display_data"
    },
    {
     "data": {
      "application/vnd.jupyter.widget-view+json": {
       "model_id": "47a80b162ded4215a78fb8d46f31fb3c",
       "version_major": 2,
       "version_minor": 0
      },
      "text/plain": [
       "HBox(children=(IntProgress(value=0, max=100000), HTML(value='')))"
      ]
     },
     "metadata": {},
     "output_type": "display_data"
    },
    {
     "name": "stdout",
     "output_type": "stream",
     "text": [
      "\n"
     ]
    },
    {
     "data": {
      "application/vnd.jupyter.widget-view+json": {
       "model_id": "a54410d5031242d4851000eee7e6d79c",
       "version_major": 2,
       "version_minor": 0
      },
      "text/plain": [
       "HBox(children=(IntProgress(value=0, max=100000), HTML(value='')))"
      ]
     },
     "metadata": {},
     "output_type": "display_data"
    },
    {
     "name": "stdout",
     "output_type": "stream",
     "text": [
      "\n"
     ]
    },
    {
     "data": {
      "application/vnd.jupyter.widget-view+json": {
       "model_id": "111998cc938348a5832e5f0df23f13d0",
       "version_major": 2,
       "version_minor": 0
      },
      "text/plain": [
       "HBox(children=(IntProgress(value=0, max=100000), HTML(value='')))"
      ]
     },
     "metadata": {},
     "output_type": "display_data"
    },
    {
     "name": "stdout",
     "output_type": "stream",
     "text": [
      "\n"
     ]
    },
    {
     "data": {
      "application/vnd.jupyter.widget-view+json": {
       "model_id": "c12ec38517bf4e3d9ad220a4d5fa3344",
       "version_major": 2,
       "version_minor": 0
      },
      "text/plain": [
       "HBox(children=(IntProgress(value=0, max=100000), HTML(value='')))"
      ]
     },
     "metadata": {},
     "output_type": "display_data"
    },
    {
     "name": "stdout",
     "output_type": "stream",
     "text": [
      "\n"
     ]
    },
    {
     "data": {
      "application/vnd.jupyter.widget-view+json": {
       "model_id": "ccd680b633ea465eaf670692e5821bec",
       "version_major": 2,
       "version_minor": 0
      },
      "text/plain": [
       "HBox(children=(IntProgress(value=0, max=100000), HTML(value='')))"
      ]
     },
     "metadata": {},
     "output_type": "display_data"
    },
    {
     "name": "stderr",
     "output_type": "stream",
     "text": [
      "W1007 14:18:04.004729 140532481337152 deprecation_wrapper.py:119] From /home/max/anaconda3/lib/python3.7/site-packages/keras/backend/tensorflow_backend.py:2741: The name tf.Session is deprecated. Please use tf.compat.v1.Session instead.\n",
      "\n",
      "W1007 14:18:04.015311 140532481337152 deprecation_wrapper.py:119] From /home/max/anaconda3/lib/python3.7/site-packages/keras/backend/tensorflow_backend.py:174: The name tf.get_default_session is deprecated. Please use tf.compat.v1.get_default_session instead.\n",
      "\n"
     ]
    },
    {
     "name": "stdout",
     "output_type": "stream",
     "text": [
      "\n"
     ]
    },
    {
     "data": {
      "application/vnd.jupyter.widget-view+json": {
       "model_id": "b0efddae98264926bc62b335a0fdee16",
       "version_major": 2,
       "version_minor": 0
      },
      "text/plain": [
       "HBox(children=(IntProgress(value=0, max=100000), HTML(value='')))"
      ]
     },
     "metadata": {},
     "output_type": "display_data"
    },
    {
     "name": "stdout",
     "output_type": "stream",
     "text": [
      "\n"
     ]
    },
    {
     "data": {
      "application/vnd.jupyter.widget-view+json": {
       "model_id": "d2f334bdf29340d88353ff6c7ce934b2",
       "version_major": 2,
       "version_minor": 0
      },
      "text/plain": [
       "HBox(children=(IntProgress(value=0, max=100000), HTML(value='')))"
      ]
     },
     "metadata": {},
     "output_type": "display_data"
    },
    {
     "name": "stdout",
     "output_type": "stream",
     "text": [
      "\n"
     ]
    },
    {
     "data": {
      "application/vnd.jupyter.widget-view+json": {
       "model_id": "b4fc077b9ea24282b0681fb91aaa5e9e",
       "version_major": 2,
       "version_minor": 0
      },
      "text/plain": [
       "HBox(children=(IntProgress(value=0, max=100000), HTML(value='')))"
      ]
     },
     "metadata": {},
     "output_type": "display_data"
    },
    {
     "name": "stdout",
     "output_type": "stream",
     "text": [
      "\n"
     ]
    },
    {
     "data": {
      "application/vnd.jupyter.widget-view+json": {
       "model_id": "2e88afe9fce24d23b5f285c27e589f0d",
       "version_major": 2,
       "version_minor": 0
      },
      "text/plain": [
       "HBox(children=(IntProgress(value=0, max=100000), HTML(value='')))"
      ]
     },
     "metadata": {},
     "output_type": "display_data"
    },
    {
     "name": "stdout",
     "output_type": "stream",
     "text": [
      "\n"
     ]
    },
    {
     "data": {
      "application/vnd.jupyter.widget-view+json": {
       "model_id": "c60d2316ca4240f69bfb7822d632b7ef",
       "version_major": 2,
       "version_minor": 0
      },
      "text/plain": [
       "HBox(children=(IntProgress(value=0, max=100000), HTML(value='')))"
      ]
     },
     "metadata": {},
     "output_type": "display_data"
    },
    {
     "name": "stdout",
     "output_type": "stream",
     "text": [
      "\n",
      "\n"
     ]
    }
   ],
   "source": [
    "n_features = 28\n",
    "\n",
    "class PyTorchNet(torch.nn.Module):\n",
    "    \n",
    "    def __init__(self, n_features):\n",
    "        super().__init__()\n",
    "        self.linear = torch.nn.Linear(n_features, 1)\n",
    "        self.sigmoid = torch.nn.Sigmoid()\n",
    "        torch.nn.init.constant_(self.linear.weight, 0)\n",
    "        torch.nn.init.constant_(self.linear.bias, 0)\n",
    "        \n",
    "    def forward(self, x):\n",
    "        return self.sigmoid(self.linear(x))\n",
    "    \n",
    "torch_model = PyTorchNet(n_features=n_features)\n",
    "\n",
    "# Keras\n",
    "inputs = layers.Input(shape=(n_features,))\n",
    "predictions = layers.Dense(1, activation='sigmoid', kernel_initializer='zeros', bias_initializer='zeros')(inputs)\n",
    "keras_model = models.Model(inputs=inputs, outputs=predictions)\n",
    "keras_model.compile(optimizer=optimizers.SGD(), loss='binary_crossentropy')\n",
    "\n",
    "names = [\n",
    "    'is_signal',\n",
    "    'lepton pT', 'lepton eta','lepton phi',\n",
    "    'missing energy magnitude', 'missing energy phi', 'jet 1 pt',\n",
    "    'jet 1 eta', 'jet 1 phi', 'jet 1 b-tag',\n",
    "    'jet 2 pt', 'jet 2 eta', 'jet 2 phi',\n",
    "    'jet 2 b-tag', 'jet 3 pt', 'jet 3 eta',\n",
    "    'jet 3 phi', 'jet 3 b-tag', 'jet 4 pt',\n",
    "    'jet 4 eta', 'jet 4 phi', 'jet 4 b-tag',\n",
    "    'm_jj', 'm_jjj', 'm_lv', 'm_jlv',\n",
    "    'm_bb', 'm_wbb', 'm_wwbb'\n",
    "]\n",
    "converters = {name: float for name in names}\n",
    "converters['is_signal'] = lambda x: bool(float(x))\n",
    "\n",
    "\n",
    "import itertools\n",
    "\n",
    "n = 100_000 # 11_000_000\n",
    "\n",
    "get_X_y = lambda: itertools.islice(stream.iter_csv('../HIGGS.csv.gz', names=names, target_name='is_signal', converters=converters), n)\n",
    "\n",
    "results = benchmark(\n",
    "    get_X_y=get_X_y,\n",
    "    n=n,\n",
    "    get_pp=preprocessing.StandardScaler,\n",
    "    models=[\n",
    "        ('creme', 'LogisticRegression', linear_model.LogisticRegression()),\n",
    "        ('creme', 'PAClassifier', linear_model.PAClassifier()),\n",
    "        ('creme', 'DecisionTreeClassifier', tree.DecisionTreeClassifier()),\n",
    "        ('creme', 'RandomForestClassifier', tree.RandomForestClassifier()),\n",
    "        ('Keras on Tensorflow (CPU)', 'Dense', KerasBinaryClassifier(keras_model)),\n",
    "        ('PyTorch (CPU)', 'Linear', PyTorchBinaryClassifier(\n",
    "            network=torch_model,\n",
    "            loss_fn=torch.nn.BCELoss(),\n",
    "            optimizer=torch.optim.SGD(torch_model.parameters(), lr=0.01)\n",
    "        )),\n",
    "        ('scikit-learn', 'SGDClassifier', ScikitLearnClassifier(\n",
    "            sk_linear_model.SGDClassifier(loss='log'),\n",
    "            classes=[False, True]\n",
    "        )),\n",
    "        ('scikit-learn', 'PassiveAggressiveClassifier', ScikitLearnClassifier(\n",
    "            sk_linear_model.PassiveAggressiveClassifier(),\n",
    "            classes=[False, True]\n",
    "        )),\n",
    "        ('scikit-garden', 'MondrianTreeClassifier', ScikitLearnClassifier(\n",
    "            skgarden.MondrianTreeClassifier(random_state=42),\n",
    "            classes=np.array([False, True])\n",
    "        )),\n",
    "        ('scikit-garden', 'MondrianForestClassifier', ScikitLearnClassifier(\n",
    "            skgarden.MondrianForestClassifier(random_state=42),\n",
    "            classes=np.array([False, True])\n",
    "        ))\n",
    "    ],\n",
    "    get_metric=metrics.Accuracy\n",
    ")"
   ]
  },
  {
   "cell_type": "code",
   "execution_count": 7,
   "metadata": {},
   "outputs": [
    {
     "data": {
      "text/html": [
       "<div>\n",
       "<style scoped>\n",
       "    .dataframe tbody tr th:only-of-type {\n",
       "        vertical-align: middle;\n",
       "    }\n",
       "\n",
       "    .dataframe tbody tr th {\n",
       "        vertical-align: top;\n",
       "    }\n",
       "\n",
       "    .dataframe thead th {\n",
       "        text-align: right;\n",
       "    }\n",
       "</style>\n",
       "<table border=\"1\" class=\"dataframe\">\n",
       "  <thead>\n",
       "    <tr style=\"text-align: right;\">\n",
       "      <th></th>\n",
       "      <th>Library</th>\n",
       "      <th>Model</th>\n",
       "      <th>Accuracy</th>\n",
       "      <th>Fit time</th>\n",
       "      <th>Average fit time</th>\n",
       "      <th>Predict time</th>\n",
       "      <th>Average predict time</th>\n",
       "    </tr>\n",
       "  </thead>\n",
       "  <tbody>\n",
       "    <tr>\n",
       "      <th>0</th>\n",
       "      <td>creme</td>\n",
       "      <td>LogisticRegression</td>\n",
       "      <td>0.61810</td>\n",
       "      <td>2s, 607ms, 937μs, 564ns</td>\n",
       "      <td>26μs, 79ns</td>\n",
       "      <td>1s, 78ms, 473μs, 18ns</td>\n",
       "      <td>10μs, 785ns</td>\n",
       "    </tr>\n",
       "    <tr>\n",
       "      <th>1</th>\n",
       "      <td>creme</td>\n",
       "      <td>PAClassifier</td>\n",
       "      <td>0.55009</td>\n",
       "      <td>3s, 551ms, 273μs, 230ns</td>\n",
       "      <td>35μs, 513ns</td>\n",
       "      <td>2s, 252ms, 867μs, 34ns</td>\n",
       "      <td>22μs, 529ns</td>\n",
       "    </tr>\n",
       "    <tr>\n",
       "      <th>2</th>\n",
       "      <td>creme</td>\n",
       "      <td>DecisionTreeClassifier</td>\n",
       "      <td>0.64663</td>\n",
       "      <td>35s, 680ms, 385μs, 243ns</td>\n",
       "      <td>356μs, 804ns</td>\n",
       "      <td>1s, 507ms, 671μs, 262ns</td>\n",
       "      <td>15μs, 77ns</td>\n",
       "    </tr>\n",
       "    <tr>\n",
       "      <th>3</th>\n",
       "      <td>creme</td>\n",
       "      <td>RandomForestClassifier</td>\n",
       "      <td>0.65915</td>\n",
       "      <td>6m, 37s, 287ms, 767μs, 351ns</td>\n",
       "      <td>3ms, 972μs, 878ns</td>\n",
       "      <td>20s, 846ms, 87μs, 174ns</td>\n",
       "      <td>208μs, 461ns</td>\n",
       "    </tr>\n",
       "    <tr>\n",
       "      <th>4</th>\n",
       "      <td>Keras on Tensorflow (CPU)</td>\n",
       "      <td>Dense</td>\n",
       "      <td>0.61840</td>\n",
       "      <td>46s, 354ms, 746μs, 18ns</td>\n",
       "      <td>463μs, 547ns</td>\n",
       "      <td>53s, 406ms, 330μs, 212ns</td>\n",
       "      <td>534μs, 63ns</td>\n",
       "    </tr>\n",
       "    <tr>\n",
       "      <th>5</th>\n",
       "      <td>PyTorch (CPU)</td>\n",
       "      <td>Linear</td>\n",
       "      <td>0.61840</td>\n",
       "      <td>1m, 32s, 681ms, 67μs, 402ns</td>\n",
       "      <td>926μs, 811ns</td>\n",
       "      <td>1m, 2s, 155ms, 741μs, 452ns</td>\n",
       "      <td>621μs, 557ns</td>\n",
       "    </tr>\n",
       "    <tr>\n",
       "      <th>6</th>\n",
       "      <td>scikit-learn</td>\n",
       "      <td>SGDClassifier</td>\n",
       "      <td>0.56161</td>\n",
       "      <td>42s, 42ms, 496μs, 787ns</td>\n",
       "      <td>420μs, 425ns</td>\n",
       "      <td>11s, 670ms, 182μs, 924ns</td>\n",
       "      <td>116μs, 702ns</td>\n",
       "    </tr>\n",
       "    <tr>\n",
       "      <th>7</th>\n",
       "      <td>scikit-learn</td>\n",
       "      <td>PassiveAggressiveClassifier</td>\n",
       "      <td>0.55009</td>\n",
       "      <td>39s, 882ms, 226μs, 530ns</td>\n",
       "      <td>398μs, 822ns</td>\n",
       "      <td>11s, 453ms, 716μs, 995ns</td>\n",
       "      <td>114μs, 537ns</td>\n",
       "    </tr>\n",
       "    <tr>\n",
       "      <th>8</th>\n",
       "      <td>scikit-garden</td>\n",
       "      <td>MondrianTreeClassifier</td>\n",
       "      <td>0.53875</td>\n",
       "      <td>1m, 26s, 417ms, 227μs, 644ns</td>\n",
       "      <td>864μs, 172ns</td>\n",
       "      <td>20s, 806ms, 447μs, 91ns</td>\n",
       "      <td>208μs, 64ns</td>\n",
       "    </tr>\n",
       "    <tr>\n",
       "      <th>9</th>\n",
       "      <td>scikit-garden</td>\n",
       "      <td>MondrianForestClassifier</td>\n",
       "      <td>0.60061</td>\n",
       "      <td>16m, 17s, 391ms, 572μs, 273ns</td>\n",
       "      <td>9ms, 773μs, 916ns</td>\n",
       "      <td>2m, 3s, 370ms, 203μs, 352ns</td>\n",
       "      <td>1ms, 233μs, 702ns</td>\n",
       "    </tr>\n",
       "  </tbody>\n",
       "</table>\n",
       "</div>"
      ],
      "text/plain": [
       "                     Library                        Model  Accuracy  \\\n",
       "0                      creme           LogisticRegression   0.61810   \n",
       "1                      creme                 PAClassifier   0.55009   \n",
       "2                      creme       DecisionTreeClassifier   0.64663   \n",
       "3                      creme       RandomForestClassifier   0.65915   \n",
       "4  Keras on Tensorflow (CPU)                        Dense   0.61840   \n",
       "5              PyTorch (CPU)                       Linear   0.61840   \n",
       "6               scikit-learn                SGDClassifier   0.56161   \n",
       "7               scikit-learn  PassiveAggressiveClassifier   0.55009   \n",
       "8              scikit-garden       MondrianTreeClassifier   0.53875   \n",
       "9              scikit-garden     MondrianForestClassifier   0.60061   \n",
       "\n",
       "                        Fit time   Average fit time  \\\n",
       "0        2s, 607ms, 937μs, 564ns         26μs, 79ns   \n",
       "1        3s, 551ms, 273μs, 230ns        35μs, 513ns   \n",
       "2       35s, 680ms, 385μs, 243ns       356μs, 804ns   \n",
       "3   6m, 37s, 287ms, 767μs, 351ns  3ms, 972μs, 878ns   \n",
       "4        46s, 354ms, 746μs, 18ns       463μs, 547ns   \n",
       "5    1m, 32s, 681ms, 67μs, 402ns       926μs, 811ns   \n",
       "6        42s, 42ms, 496μs, 787ns       420μs, 425ns   \n",
       "7       39s, 882ms, 226μs, 530ns       398μs, 822ns   \n",
       "8   1m, 26s, 417ms, 227μs, 644ns       864μs, 172ns   \n",
       "9  16m, 17s, 391ms, 572μs, 273ns  9ms, 773μs, 916ns   \n",
       "\n",
       "                  Predict time Average predict time  \n",
       "0        1s, 78ms, 473μs, 18ns          10μs, 785ns  \n",
       "1       2s, 252ms, 867μs, 34ns          22μs, 529ns  \n",
       "2      1s, 507ms, 671μs, 262ns           15μs, 77ns  \n",
       "3      20s, 846ms, 87μs, 174ns         208μs, 461ns  \n",
       "4     53s, 406ms, 330μs, 212ns          534μs, 63ns  \n",
       "5  1m, 2s, 155ms, 741μs, 452ns         621μs, 557ns  \n",
       "6     11s, 670ms, 182μs, 924ns         116μs, 702ns  \n",
       "7     11s, 453ms, 716μs, 995ns         114μs, 537ns  \n",
       "8      20s, 806ms, 447μs, 91ns          208μs, 64ns  \n",
       "9  2m, 3s, 370ms, 203μs, 352ns    1ms, 233μs, 702ns  "
      ]
     },
     "execution_count": 7,
     "metadata": {},
     "output_type": "execute_result"
    }
   ],
   "source": [
    "results"
   ]
  },
  {
   "cell_type": "code",
   "execution_count": 1,
   "metadata": {},
   "outputs": [
    {
     "ename": "NameError",
     "evalue": "name 'results' is not defined",
     "output_type": "error",
     "traceback": [
      "\u001b[0;31m---------------------------------------------------------------------------\u001b[0m",
      "\u001b[0;31mNameError\u001b[0m                                 Traceback (most recent call last)",
      "\u001b[0;32m<ipython-input-1-100f62972f2f>\u001b[0m in \u001b[0;36m<module>\u001b[0;34m\u001b[0m\n\u001b[0;32m----> 1\u001b[0;31m \u001b[0mresults\u001b[0m\u001b[0;34m\u001b[0m\u001b[0;34m\u001b[0m\u001b[0m\n\u001b[0m",
      "\u001b[0;31mNameError\u001b[0m: name 'results' is not defined"
     ]
    }
   ],
   "source": [
    "results"
   ]
  },
  {
   "cell_type": "code",
   "execution_count": null,
   "metadata": {},
   "outputs": [],
   "source": []
  }
 ],
 "metadata": {
  "kernelspec": {
   "display_name": "Python 3",
   "language": "python",
   "name": "python3"
  },
  "language_info": {
   "codemirror_mode": {
    "name": "ipython",
    "version": 3
   },
   "file_extension": ".py",
   "mimetype": "text/x-python",
   "name": "python",
   "nbconvert_exporter": "python",
   "pygments_lexer": "ipython3",
   "version": "3.7.4"
  }
 },
 "nbformat": 4,
 "nbformat_minor": 2
}
