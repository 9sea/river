{
 "cells": [
  {
   "cell_type": "markdown",
   "metadata": {},
   "source": [
    "# Binary classification benchmark"
   ]
  },
  {
   "cell_type": "markdown",
   "metadata": {},
   "source": [
    "This notebook compares binary classification models from various libraries. The dataset used is the [Higgs dataset](https://archive.ics.uci.edu/ml/datasets/HIGGS)."
   ]
  },
  {
   "cell_type": "code",
   "execution_count": 3,
   "metadata": {},
   "outputs": [
    {
     "name": "stdout",
     "output_type": "stream",
     "text": [
      "The watermark extension is already loaded. To reload it, use:\n",
      "  %reload_ext watermark\n",
      "Sat Sep 21 2019 \n",
      "\n",
      "CPython 3.7.3\n",
      "IPython 7.4.0\n",
      "\n",
      "creme 0.3.0\n",
      "keras 2.2.4\n",
      "skgarden 0.1.2\n",
      "sklearn 0.21.3\n",
      "tensorflow 1.14.0\n",
      "torch 1.1.0\n",
      "\n",
      "compiler   : GCC 7.3.0\n",
      "system     : Linux\n",
      "release    : 5.2.10-arch1-1-ARCH\n",
      "machine    : x86_64\n",
      "processor  : \n",
      "CPU cores  : 8\n",
      "interpreter: 64bit\n"
     ]
    }
   ],
   "source": [
    "%load_ext watermark\n",
    "%watermark --python --machine --packages creme,keras,skgarden,sklearn,tensorflow,torch --datename"
   ]
  },
  {
   "cell_type": "code",
   "execution_count": 25,
   "metadata": {},
   "outputs": [],
   "source": [
    "from creme import compose\n",
    "from creme import feature_extraction\n",
    "from creme import linear_model\n",
    "from creme import metrics\n",
    "from creme import neighbors\n",
    "from creme import optim\n",
    "from creme import preprocessing\n",
    "from creme import stats\n",
    "from keras import layers\n",
    "from keras import models\n",
    "from keras import optimizers\n",
    "import numpy as np\n",
    "import skgarden\n",
    "from sklearn import linear_model as sk_linear_model\n",
    "import torch\n",
    "\n",
    "%run benchmarks/utils.py\n",
    "%run benchmarks/wrappers.py"
   ]
  },
  {
   "cell_type": "code",
   "execution_count": 29,
   "metadata": {},
   "outputs": [
    {
     "data": {
      "application/vnd.jupyter.widget-view+json": {
       "model_id": "c5a4148b9923476fbd4170e07921a41c",
       "version_major": 2,
       "version_minor": 0
      },
      "text/plain": [
       "HBox(children=(IntProgress(value=0, max=8), HTML(value='')))"
      ]
     },
     "metadata": {},
     "output_type": "display_data"
    },
    {
     "data": {
      "application/vnd.jupyter.widget-view+json": {
       "model_id": "c516b9fb08c74c83968a9cf441774edc",
       "version_major": 2,
       "version_minor": 0
      },
      "text/plain": [
       "HBox(children=(IntProgress(value=0, max=500000), HTML(value='')))"
      ]
     },
     "metadata": {},
     "output_type": "display_data"
    },
    {
     "data": {
      "application/vnd.jupyter.widget-view+json": {
       "model_id": "7056bfb92b914e31aab100378379b923",
       "version_major": 2,
       "version_minor": 0
      },
      "text/plain": [
       "HBox(children=(IntProgress(value=0, max=500000), HTML(value='')))"
      ]
     },
     "metadata": {},
     "output_type": "display_data"
    },
    {
     "data": {
      "application/vnd.jupyter.widget-view+json": {
       "model_id": "f6cdf8e47a3f47fc9d97764705c3f6b7",
       "version_major": 2,
       "version_minor": 0
      },
      "text/plain": [
       "HBox(children=(IntProgress(value=0, max=500000), HTML(value='')))"
      ]
     },
     "metadata": {},
     "output_type": "display_data"
    },
    {
     "data": {
      "application/vnd.jupyter.widget-view+json": {
       "model_id": "fd4940a71f7540d2a52c0bd691998d23",
       "version_major": 2,
       "version_minor": 0
      },
      "text/plain": [
       "HBox(children=(IntProgress(value=0, max=500000), HTML(value='')))"
      ]
     },
     "metadata": {},
     "output_type": "display_data"
    },
    {
     "data": {
      "application/vnd.jupyter.widget-view+json": {
       "model_id": "b82897dd5f434d728934491a91e2e93d",
       "version_major": 2,
       "version_minor": 0
      },
      "text/plain": [
       "HBox(children=(IntProgress(value=0, max=500000), HTML(value='')))"
      ]
     },
     "metadata": {},
     "output_type": "display_data"
    },
    {
     "data": {
      "application/vnd.jupyter.widget-view+json": {
       "model_id": "c462470773b04a33a19085322936367b",
       "version_major": 2,
       "version_minor": 0
      },
      "text/plain": [
       "HBox(children=(IntProgress(value=0, max=500000), HTML(value='')))"
      ]
     },
     "metadata": {},
     "output_type": "display_data"
    },
    {
     "data": {
      "application/vnd.jupyter.widget-view+json": {
       "model_id": "9ba5f44dce4f46408b48043fb5327eff",
       "version_major": 2,
       "version_minor": 0
      },
      "text/plain": [
       "HBox(children=(IntProgress(value=0, max=500000), HTML(value='')))"
      ]
     },
     "metadata": {},
     "output_type": "display_data"
    },
    {
     "data": {
      "application/vnd.jupyter.widget-view+json": {
       "model_id": "c261d73808e84f7d9d2a2fc5badf8d3e",
       "version_major": 2,
       "version_minor": 0
      },
      "text/plain": [
       "HBox(children=(IntProgress(value=0, max=500000), HTML(value='')))"
      ]
     },
     "metadata": {},
     "output_type": "display_data"
    }
   ],
   "source": [
    "n_features = 28\n",
    "\n",
    "class PyTorchNet(torch.nn.Module):\n",
    "    \n",
    "    def __init__(self, n_features):\n",
    "        super().__init__()\n",
    "        self.linear = torch.nn.Linear(n_features, 1)\n",
    "        self.sigmoid = torch.nn.Sigmoid()\n",
    "        torch.nn.init.constant_(self.linear.weight, 0)\n",
    "        torch.nn.init.constant_(self.linear.bias, 0)\n",
    "        \n",
    "    def forward(self, x):\n",
    "        return self.sigmoid(self.linear(x))\n",
    "    \n",
    "torch_model = PyTorchNet(n_features=n_features)\n",
    "\n",
    "# Keras\n",
    "inputs = layers.Input(shape=(n_features,))\n",
    "predictions = layers.Dense(1, activation='sigmoid', kernel_initializer='zeros', bias_initializer='zeros')(inputs)\n",
    "keras_model = models.Model(inputs=inputs, outputs=predictions)\n",
    "keras_model.compile(optimizer=optimizers.SGD(), loss='binary_crossentropy')\n",
    "\n",
    "converters = {name: float for name in names}\n",
    "converters['is_signal'] = lambda x: bool(float(x))\n",
    "\n",
    "\n",
    "import itertools\n",
    "\n",
    "n = 500_000 # 11_000_000\n",
    "\n",
    "get_X_y = lambda: itertools.islice(stream.iter_csv('HIGGS.csv.gz', names=names, target_name='is_signal', converters=converters), n)\n",
    "\n",
    "results = benchmark(\n",
    "    get_X_y=get_X_y,\n",
    "    n=n,\n",
    "    get_pp=preprocessing.StandardScaler,\n",
    "    models=[\n",
    "        ('creme', 'LogisticRegression', linear_model.LogisticRegression()),\n",
    "        ('creme', 'PAClassifier', linear_model.PAClassifier()),\n",
    "        ('scikit-learn', 'SGDClassifier', ScikitLearnClassifier(\n",
    "            sk_linear_model.SGDClassifier(loss='log'),\n",
    "            classes=[False, True]\n",
    "        )),\n",
    "        ('scikit-learn', 'PassiveAggressiveClassifier', ScikitLearnClassifier(\n",
    "            sk_linear_model.PassiveAggressiveClassifier(),\n",
    "            classes=[False, True]\n",
    "        )),\n",
    "        ('PyTorch (CPU)', 'Linear', PyTorchBinaryClassifier(\n",
    "            network=torch_model,\n",
    "            loss_fn=torch.nn.BCELoss(),\n",
    "            optimizer=torch.optim.SGD(torch_model.parameters(), lr=0.01)\n",
    "        )),\n",
    "        ('Keras on Tensorflow (CPU)', 'Dense', KerasBinaryClassifier(keras_model)),\n",
    "        ('scikit-garden', 'MondrianTreeClassifier', ScikitLearnClassifier(\n",
    "            skgarden.MondrianTreeClassifier(random_state=42),\n",
    "            classes=np.array([False, True])\n",
    "        )),\n",
    "        ('scikit-garden', 'MondrianForestClassifier', ScikitLearnClassifier(\n",
    "            skgarden.MondrianForestClassifier(random_state=42),\n",
    "            classes=np.array([False, True])\n",
    "        ))\n",
    "    ],\n",
    "    get_metric=metrics.Accuracy\n",
    ")"
   ]
  },
  {
   "cell_type": "code",
   "execution_count": 27,
   "metadata": {},
   "outputs": [
    {
     "data": {
      "text/html": [
       "<div>\n",
       "<style scoped>\n",
       "    .dataframe tbody tr th:only-of-type {\n",
       "        vertical-align: middle;\n",
       "    }\n",
       "\n",
       "    .dataframe tbody tr th {\n",
       "        vertical-align: top;\n",
       "    }\n",
       "\n",
       "    .dataframe thead th {\n",
       "        text-align: right;\n",
       "    }\n",
       "</style>\n",
       "<table border=\"1\" class=\"dataframe\">\n",
       "  <thead>\n",
       "    <tr style=\"text-align: right;\">\n",
       "      <th></th>\n",
       "      <th>Library</th>\n",
       "      <th>Model</th>\n",
       "      <th>Accuracy</th>\n",
       "      <th>Fit time</th>\n",
       "      <th>Average fit time</th>\n",
       "      <th>Predict time</th>\n",
       "      <th>Average predict time</th>\n",
       "    </tr>\n",
       "  </thead>\n",
       "  <tbody>\n",
       "    <tr>\n",
       "      <th>0</th>\n",
       "      <td>creme</td>\n",
       "      <td>LogisticRegression</td>\n",
       "      <td>0.609818</td>\n",
       "      <td>254ms, 218μs, 897ns</td>\n",
       "      <td>23μs, 111ns</td>\n",
       "      <td>127ms, 655μs, 131ns</td>\n",
       "      <td>11μs, 605ns</td>\n",
       "    </tr>\n",
       "    <tr>\n",
       "      <th>1</th>\n",
       "      <td>creme</td>\n",
       "      <td>PAClassifier</td>\n",
       "      <td>0.547909</td>\n",
       "      <td>416ms, 951μs, 692ns</td>\n",
       "      <td>37μs, 905ns</td>\n",
       "      <td>256ms, 739μs, 604ns</td>\n",
       "      <td>23μs, 340ns</td>\n",
       "    </tr>\n",
       "    <tr>\n",
       "      <th>2</th>\n",
       "      <td>scikit-learn</td>\n",
       "      <td>SGDClassifier</td>\n",
       "      <td>0.556636</td>\n",
       "      <td>2s, 973ms, 296μs, 427ns</td>\n",
       "      <td>270μs, 300ns</td>\n",
       "      <td>817ms, 207μs, 712ns</td>\n",
       "      <td>74μs, 292ns</td>\n",
       "    </tr>\n",
       "    <tr>\n",
       "      <th>3</th>\n",
       "      <td>scikit-learn</td>\n",
       "      <td>PassiveAggressiveClassifier</td>\n",
       "      <td>0.547909</td>\n",
       "      <td>2s, 709ms, 773μs, 300ns</td>\n",
       "      <td>246μs, 343ns</td>\n",
       "      <td>769ms, 225μs, 668ns</td>\n",
       "      <td>69μs, 930ns</td>\n",
       "    </tr>\n",
       "    <tr>\n",
       "      <th>4</th>\n",
       "      <td>PyTorch (CPU)</td>\n",
       "      <td>Linear</td>\n",
       "      <td>0.609818</td>\n",
       "      <td>2s, 422ms, 66μs, 2ns</td>\n",
       "      <td>220μs, 188ns</td>\n",
       "      <td>1s, 430ms, 21μs, 509ns</td>\n",
       "      <td>130μs, 2ns</td>\n",
       "    </tr>\n",
       "    <tr>\n",
       "      <th>5</th>\n",
       "      <td>Keras on Tensorflow (CPU)</td>\n",
       "      <td>Dense</td>\n",
       "      <td>0.609818</td>\n",
       "      <td>5s, 190ms, 590μs, 567ns</td>\n",
       "      <td>471μs, 872ns</td>\n",
       "      <td>5s, 391ms, 946μs, 869ns</td>\n",
       "      <td>490μs, 177ns</td>\n",
       "    </tr>\n",
       "    <tr>\n",
       "      <th>6</th>\n",
       "      <td>scikit-garden</td>\n",
       "      <td>MondrianTreeClassifier</td>\n",
       "      <td>0.543909</td>\n",
       "      <td>6s, 959ms, 988μs, 118ns</td>\n",
       "      <td>632μs, 726ns</td>\n",
       "      <td>1s, 694ms, 959μs, 344ns</td>\n",
       "      <td>154μs, 87ns</td>\n",
       "    </tr>\n",
       "    <tr>\n",
       "      <th>7</th>\n",
       "      <td>scikit-garden</td>\n",
       "      <td>MondrianForestClassifier</td>\n",
       "      <td>0.574455</td>\n",
       "      <td>1m, 9s, 759ms, 552μs, 480ns</td>\n",
       "      <td>6ms, 341μs, 777ns</td>\n",
       "      <td>8s, 172ms, 406μs, 942ns</td>\n",
       "      <td>742μs, 946ns</td>\n",
       "    </tr>\n",
       "  </tbody>\n",
       "</table>\n",
       "</div>"
      ],
      "text/plain": [
       "                     Library                        Model  Accuracy  \\\n",
       "0                      creme           LogisticRegression  0.609818   \n",
       "1                      creme                 PAClassifier  0.547909   \n",
       "2               scikit-learn                SGDClassifier  0.556636   \n",
       "3               scikit-learn  PassiveAggressiveClassifier  0.547909   \n",
       "4              PyTorch (CPU)                       Linear  0.609818   \n",
       "5  Keras on Tensorflow (CPU)                        Dense  0.609818   \n",
       "6              scikit-garden       MondrianTreeClassifier  0.543909   \n",
       "7              scikit-garden     MondrianForestClassifier  0.574455   \n",
       "\n",
       "                      Fit time   Average fit time             Predict time  \\\n",
       "0          254ms, 218μs, 897ns        23μs, 111ns      127ms, 655μs, 131ns   \n",
       "1          416ms, 951μs, 692ns        37μs, 905ns      256ms, 739μs, 604ns   \n",
       "2      2s, 973ms, 296μs, 427ns       270μs, 300ns      817ms, 207μs, 712ns   \n",
       "3      2s, 709ms, 773μs, 300ns       246μs, 343ns      769ms, 225μs, 668ns   \n",
       "4         2s, 422ms, 66μs, 2ns       220μs, 188ns   1s, 430ms, 21μs, 509ns   \n",
       "5      5s, 190ms, 590μs, 567ns       471μs, 872ns  5s, 391ms, 946μs, 869ns   \n",
       "6      6s, 959ms, 988μs, 118ns       632μs, 726ns  1s, 694ms, 959μs, 344ns   \n",
       "7  1m, 9s, 759ms, 552μs, 480ns  6ms, 341μs, 777ns  8s, 172ms, 406μs, 942ns   \n",
       "\n",
       "  Average predict time  \n",
       "0          11μs, 605ns  \n",
       "1          23μs, 340ns  \n",
       "2          74μs, 292ns  \n",
       "3          69μs, 930ns  \n",
       "4           130μs, 2ns  \n",
       "5         490μs, 177ns  \n",
       "6          154μs, 87ns  \n",
       "7         742μs, 946ns  "
      ]
     },
     "execution_count": 27,
     "metadata": {},
     "output_type": "execute_result"
    }
   ],
   "source": [
    "results"
   ]
  },
  {
   "cell_type": "markdown",
   "metadata": {},
   "source": []
  }
 ],
 "metadata": {
  "kernelspec": {
   "display_name": "Python 3",
   "language": "python",
   "name": "python3"
  },
  "language_info": {
   "codemirror_mode": {
    "name": "ipython",
    "version": 3
   },
   "file_extension": ".py",
   "mimetype": "text/x-python",
   "name": "python",
   "nbconvert_exporter": "python",
   "pygments_lexer": "ipython3",
   "version": "3.7.3"
  }
 },
 "nbformat": 4,
 "nbformat_minor": 2
}
