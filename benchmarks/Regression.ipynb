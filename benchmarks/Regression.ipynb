{
 "cells": [
  {
   "cell_type": "markdown",
   "metadata": {},
   "source": [
    "# Regression"
   ]
  },
  {
   "cell_type": "markdown",
   "metadata": {},
   "source": [
    "This notebook compares regression models from various libraries. The dataset used is the [Kaggle Recruit Restaurants dataset](https://creme-ml.github.io/generated/creme.datasets.fetch_restaurants.html#creme.datasets.fetch_restaurants)."
   ]
  },
  {
   "cell_type": "code",
   "execution_count": 2,
   "metadata": {},
   "outputs": [
    {
     "name": "stderr",
     "output_type": "stream",
     "text": [
      "Using TensorFlow backend.\n"
     ]
    },
    {
     "name": "stdout",
     "output_type": "stream",
     "text": [
      "Wed Aug 21 2019 \n",
      "\n",
      "CPython 3.7.3\n",
      "IPython 7.4.0\n",
      "\n",
      "creme 0.3.0\n",
      "keras 2.2.4\n",
      "skgarden 0.1.2\n",
      "sklearn 0.20.3\n",
      "tensorflow 1.14.0\n",
      "torch 1.1.0\n",
      "\n",
      "compiler   : GCC 7.3.0\n",
      "system     : Linux\n",
      "release    : 5.1.9-arch1-1-ARCH\n",
      "machine    : x86_64\n",
      "processor  : \n",
      "CPU cores  : 8\n",
      "interpreter: 64bit\n"
     ]
    }
   ],
   "source": [
    "%load_ext watermark\n",
    "%watermark --python --machine --packages creme,keras,skgarden,sklearn,tensorflow,torch --datename"
   ]
  },
  {
   "cell_type": "code",
   "execution_count": 3,
   "metadata": {},
   "outputs": [],
   "source": [
    "from creme import compose\n",
    "from creme import datasets\n",
    "from creme import feature_extraction\n",
    "from creme import linear_model\n",
    "from creme import metrics\n",
    "from creme import neighbors\n",
    "from creme import optim\n",
    "from creme import preprocessing\n",
    "from creme import stats\n",
    "from keras import layers\n",
    "from keras import models\n",
    "from keras import optimizers\n",
    "import skgarden\n",
    "from sklearn import linear_model as sk_linear_model\n",
    "import torch\n",
    "\n",
    "%run utils.py\n",
    "%run wrappers.py"
   ]
  },
  {
   "cell_type": "code",
   "execution_count": 5,
   "metadata": {},
   "outputs": [
    {
     "data": {
      "application/vnd.jupyter.widget-view+json": {
       "model_id": "dbd94f58a42d4e808becce20a9350952",
       "version_major": 2,
       "version_minor": 0
      },
      "text/plain": [
       "HBox(children=(IntProgress(value=0, max=9), HTML(value='')))"
      ]
     },
     "metadata": {},
     "output_type": "display_data"
    },
    {
     "data": {
      "application/vnd.jupyter.widget-view+json": {
       "model_id": "3708303647ed42bb9a9325e82f82ecf0",
       "version_major": 2,
       "version_minor": 0
      },
      "text/plain": [
       "HBox(children=(IntProgress(value=0, max=252108), HTML(value='')))"
      ]
     },
     "metadata": {},
     "output_type": "display_data"
    },
    {
     "data": {
      "application/vnd.jupyter.widget-view+json": {
       "model_id": "0d3c70ef3b6945ebad08568ae2d73f4d",
       "version_major": 2,
       "version_minor": 0
      },
      "text/plain": [
       "HBox(children=(IntProgress(value=0, max=252108), HTML(value='')))"
      ]
     },
     "metadata": {},
     "output_type": "display_data"
    },
    {
     "data": {
      "application/vnd.jupyter.widget-view+json": {
       "model_id": "6d22150befc84d2c93706f87c197b39a",
       "version_major": 2,
       "version_minor": 0
      },
      "text/plain": [
       "HBox(children=(IntProgress(value=0, max=252108), HTML(value='')))"
      ]
     },
     "metadata": {},
     "output_type": "display_data"
    },
    {
     "data": {
      "application/vnd.jupyter.widget-view+json": {
       "model_id": "2686a79fbcdc4f5db919fd9ad57e0edc",
       "version_major": 2,
       "version_minor": 0
      },
      "text/plain": [
       "HBox(children=(IntProgress(value=0, max=252108), HTML(value='')))"
      ]
     },
     "metadata": {},
     "output_type": "display_data"
    },
    {
     "data": {
      "application/vnd.jupyter.widget-view+json": {
       "model_id": "b9561a5c0fdd4c54b3bcad4b1804153c",
       "version_major": 2,
       "version_minor": 0
      },
      "text/plain": [
       "HBox(children=(IntProgress(value=0, max=252108), HTML(value='')))"
      ]
     },
     "metadata": {},
     "output_type": "display_data"
    },
    {
     "data": {
      "application/vnd.jupyter.widget-view+json": {
       "model_id": "0e409eb961ac495b88a46bc59f3e0da6",
       "version_major": 2,
       "version_minor": 0
      },
      "text/plain": [
       "HBox(children=(IntProgress(value=0, max=252108), HTML(value='')))"
      ]
     },
     "metadata": {},
     "output_type": "display_data"
    },
    {
     "data": {
      "application/vnd.jupyter.widget-view+json": {
       "model_id": "2665f510004c4a7fb32cf1da956a299b",
       "version_major": 2,
       "version_minor": 0
      },
      "text/plain": [
       "HBox(children=(IntProgress(value=0, max=252108), HTML(value='')))"
      ]
     },
     "metadata": {},
     "output_type": "display_data"
    },
    {
     "name": "stderr",
     "output_type": "stream",
     "text": [
      "W0821 14:29:23.073089 140274460936000 deprecation_wrapper.py:119] From /home/max/anaconda3/lib/python3.7/site-packages/keras/backend/tensorflow_backend.py:2741: The name tf.Session is deprecated. Please use tf.compat.v1.Session instead.\n",
      "\n",
      "W0821 14:29:23.074513 140274460936000 deprecation_wrapper.py:119] From /home/max/anaconda3/lib/python3.7/site-packages/keras/backend/tensorflow_backend.py:174: The name tf.get_default_session is deprecated. Please use tf.compat.v1.get_default_session instead.\n",
      "\n"
     ]
    },
    {
     "data": {
      "application/vnd.jupyter.widget-view+json": {
       "model_id": "7e8d271ad110438eada41217ec9b08ee",
       "version_major": 2,
       "version_minor": 0
      },
      "text/plain": [
       "HBox(children=(IntProgress(value=0, max=252108), HTML(value='')))"
      ]
     },
     "metadata": {},
     "output_type": "display_data"
    },
    {
     "data": {
      "application/vnd.jupyter.widget-view+json": {
       "model_id": "2365c0f49d9748b7bfbed3d538ead389",
       "version_major": 2,
       "version_minor": 0
      },
      "text/plain": [
       "HBox(children=(IntProgress(value=0, max=252108), HTML(value='')))"
      ]
     },
     "metadata": {},
     "output_type": "display_data"
    },
    {
     "name": "stdout",
     "output_type": "stream",
     "text": [
      "\n"
     ]
    }
   ],
   "source": [
    "n_features = 5\n",
    "\n",
    "class PyTorchNet(torch.nn.Module):\n",
    "    \n",
    "    def __init__(self, n_features):\n",
    "        super().__init__()\n",
    "        self.linear = torch.nn.Linear(n_features, 1)\n",
    "        torch.nn.init.constant_(self.linear.weight, 0)\n",
    "        torch.nn.init.constant_(self.linear.bias, 0)\n",
    "        \n",
    "    def forward(self, x):\n",
    "        return self.linear(x)\n",
    "    \n",
    "torch_model = PyTorchNet(n_features=n_features)\n",
    "\n",
    "# Keras\n",
    "inputs = layers.Input(shape=(n_features,))\n",
    "predictions = layers.Dense(1)(inputs)\n",
    "keras_model = models.Model(inputs=inputs, outputs=predictions)\n",
    "keras_model.compile(loss='mean_squared_error', optimizer='sgd')\n",
    "\n",
    "\n",
    "def get_date_features(x):\n",
    "    weekday =  x['date'].weekday()\n",
    "    return {'weekday': weekday, 'is_weekend': weekday in (5, 6)}\n",
    "\n",
    "results = benchmark(\n",
    "    get_X_y=datasets.fetch_restaurants,\n",
    "    n=252108,\n",
    "    get_pp=lambda: (\n",
    "        (\n",
    "            compose.FuncTransformer(get_date_features) +\n",
    "            feature_extraction.TargetAgg(by='store_id', how=stats.RollingMean(7)) +\n",
    "            feature_extraction.TargetAgg(by='store_id', how=stats.RollingMean(14)) +\n",
    "            feature_extraction.TargetAgg(by='store_id', how=stats.RollingMean(21)) \n",
    "        ) |\n",
    "        compose.Blacklister('store_id', 'date', 'genre_name', 'area_name', 'latitude', 'longitude') |\n",
    "        preprocessing.StandardScaler()\n",
    "    ),\n",
    "    models=[\n",
    "        ('creme', 'LinearRegression', linear_model.LinearRegression()),\n",
    "        ('creme', 'PARegressor', linear_model.PARegressor()),\n",
    "        ('creme', 'KNeighborsRegressor', neighbors.KNeighborsRegressor()),\n",
    "        ('scikit-learn', 'SGDRegressor', ScikitLearnRegressor(sk_linear_model.SGDRegressor())),\n",
    "        ('scikit-learn', 'PassiveAggressiveRegressor', ScikitLearnRegressor(sk_linear_model.PassiveAggressiveRegressor())),\n",
    "        ('PyTorch (CPU)', 'Linear', PyTorchRegressor(\n",
    "            network=torch_model,\n",
    "            loss_fn=torch.nn.MSELoss(),\n",
    "            optimizer=torch.optim.SGD(torch_model.parameters(), lr=0.01)\n",
    "        )),\n",
    "        ('Keras on Tensorflow (CPU)', 'Dense', KerasRegressor(keras_model)),\n",
    "        ('scikit-garden', 'MondrianTreeRegressor', ScikitLearnRegressor(skgarden.MondrianTreeRegressor(\n",
    "            random_state=42\n",
    "        ))),\n",
    "        ('scikit-garden', 'MondrianForestRegressor', ScikitLearnRegressor(skgarden.MondrianForestRegressor(\n",
    "            random_state=42\n",
    "        )))\n",
    "    ],\n",
    "    get_metric=metrics.MSE\n",
    ")"
   ]
  },
  {
   "cell_type": "code",
   "execution_count": 6,
   "metadata": {},
   "outputs": [
    {
     "data": {
      "text/html": [
       "<div>\n",
       "<style scoped>\n",
       "    .dataframe tbody tr th:only-of-type {\n",
       "        vertical-align: middle;\n",
       "    }\n",
       "\n",
       "    .dataframe tbody tr th {\n",
       "        vertical-align: top;\n",
       "    }\n",
       "\n",
       "    .dataframe thead th {\n",
       "        text-align: right;\n",
       "    }\n",
       "</style>\n",
       "<table border=\"1\" class=\"dataframe\">\n",
       "  <thead>\n",
       "    <tr style=\"text-align: right;\">\n",
       "      <th></th>\n",
       "      <th>Library</th>\n",
       "      <th>Model</th>\n",
       "      <th>MSE</th>\n",
       "      <th>Fit time</th>\n",
       "      <th>Average fit time</th>\n",
       "      <th>Predict time</th>\n",
       "      <th>Average predict time</th>\n",
       "    </tr>\n",
       "  </thead>\n",
       "  <tbody>\n",
       "    <tr>\n",
       "      <th>0</th>\n",
       "      <td>creme</td>\n",
       "      <td>LinearRegression</td>\n",
       "      <td>118.549437</td>\n",
       "      <td>2s, 580ms, 335μs, 806ns</td>\n",
       "      <td>10μs, 235ns</td>\n",
       "      <td>759ms, 277μs, 164ns</td>\n",
       "      <td>3μs, 12ns</td>\n",
       "    </tr>\n",
       "    <tr>\n",
       "      <th>1</th>\n",
       "      <td>creme</td>\n",
       "      <td>PARegressor</td>\n",
       "      <td>143.477210</td>\n",
       "      <td>6s, 994ms, 226μs, 455ns</td>\n",
       "      <td>27μs, 743ns</td>\n",
       "      <td>1s, 305ms, 952μs, 961ns</td>\n",
       "      <td>5μs, 180ns</td>\n",
       "    </tr>\n",
       "    <tr>\n",
       "      <th>2</th>\n",
       "      <td>creme</td>\n",
       "      <td>KNeighborsRegressor</td>\n",
       "      <td>155.585250</td>\n",
       "      <td>394ms, 893μs, 956ns</td>\n",
       "      <td>1μs, 566ns</td>\n",
       "      <td>37s, 4ms, 731μs, 422ns</td>\n",
       "      <td>146μs, 781ns</td>\n",
       "    </tr>\n",
       "    <tr>\n",
       "      <th>3</th>\n",
       "      <td>scikit-learn</td>\n",
       "      <td>SGDRegressor</td>\n",
       "      <td>120.185848</td>\n",
       "      <td>36s, 433ms, 335μs, 738ns</td>\n",
       "      <td>144μs, 515ns</td>\n",
       "      <td>14s, 766ms, 211μs, 576ns</td>\n",
       "      <td>58μs, 571ns</td>\n",
       "    </tr>\n",
       "    <tr>\n",
       "      <th>4</th>\n",
       "      <td>scikit-learn</td>\n",
       "      <td>PassiveAggressiveRegressor</td>\n",
       "      <td>143.477210</td>\n",
       "      <td>35s, 551ms, 211μs, 534ns</td>\n",
       "      <td>141μs, 16ns</td>\n",
       "      <td>14s, 599ms, 61μs, 497ns</td>\n",
       "      <td>57μs, 908ns</td>\n",
       "    </tr>\n",
       "    <tr>\n",
       "      <th>5</th>\n",
       "      <td>PyTorch (CPU)</td>\n",
       "      <td>Linear</td>\n",
       "      <td>142.495995</td>\n",
       "      <td>47s, 335ms, 680μs, 555ns</td>\n",
       "      <td>187μs, 760ns</td>\n",
       "      <td>14s, 822ms, 474μs, 684ns</td>\n",
       "      <td>58μs, 794ns</td>\n",
       "    </tr>\n",
       "    <tr>\n",
       "      <th>6</th>\n",
       "      <td>Keras on Tensorflow (CPU)</td>\n",
       "      <td>Dense</td>\n",
       "      <td>142.494512</td>\n",
       "      <td>1m, 18s, 296ms, 225μs, 913ns</td>\n",
       "      <td>310μs, 566ns</td>\n",
       "      <td>49s, 225ms, 980μs, 400ns</td>\n",
       "      <td>195μs, 258ns</td>\n",
       "    </tr>\n",
       "    <tr>\n",
       "      <th>7</th>\n",
       "      <td>scikit-garden</td>\n",
       "      <td>MondrianTreeRegressor</td>\n",
       "      <td>201.687033</td>\n",
       "      <td>35s, 983ms, 74μs, 12ns</td>\n",
       "      <td>142μs, 729ns</td>\n",
       "      <td>23s, 502ms, 259μs, 452ns</td>\n",
       "      <td>93μs, 223ns</td>\n",
       "    </tr>\n",
       "    <tr>\n",
       "      <th>8</th>\n",
       "      <td>scikit-garden</td>\n",
       "      <td>MondrianForestRegressor</td>\n",
       "      <td>142.364156</td>\n",
       "      <td>5m, 58s, 226ms, 553μs, 453ns</td>\n",
       "      <td>1ms, 420μs, 925ns</td>\n",
       "      <td>2m, 40s, 728ms, 575μs, 12ns</td>\n",
       "      <td>637μs, 539ns</td>\n",
       "    </tr>\n",
       "  </tbody>\n",
       "</table>\n",
       "</div>"
      ],
      "text/plain": [
       "                     Library                       Model         MSE  \\\n",
       "0                      creme            LinearRegression  118.549437   \n",
       "1                      creme                 PARegressor  143.477210   \n",
       "2                      creme         KNeighborsRegressor  155.585250   \n",
       "3               scikit-learn                SGDRegressor  120.185848   \n",
       "4               scikit-learn  PassiveAggressiveRegressor  143.477210   \n",
       "5              PyTorch (CPU)                      Linear  142.495995   \n",
       "6  Keras on Tensorflow (CPU)                       Dense  142.494512   \n",
       "7              scikit-garden       MondrianTreeRegressor  201.687033   \n",
       "8              scikit-garden     MondrianForestRegressor  142.364156   \n",
       "\n",
       "                       Fit time   Average fit time  \\\n",
       "0       2s, 580ms, 335μs, 806ns        10μs, 235ns   \n",
       "1       6s, 994ms, 226μs, 455ns        27μs, 743ns   \n",
       "2           394ms, 893μs, 956ns         1μs, 566ns   \n",
       "3      36s, 433ms, 335μs, 738ns       144μs, 515ns   \n",
       "4      35s, 551ms, 211μs, 534ns        141μs, 16ns   \n",
       "5      47s, 335ms, 680μs, 555ns       187μs, 760ns   \n",
       "6  1m, 18s, 296ms, 225μs, 913ns       310μs, 566ns   \n",
       "7        35s, 983ms, 74μs, 12ns       142μs, 729ns   \n",
       "8  5m, 58s, 226ms, 553μs, 453ns  1ms, 420μs, 925ns   \n",
       "\n",
       "                  Predict time Average predict time  \n",
       "0          759ms, 277μs, 164ns            3μs, 12ns  \n",
       "1      1s, 305ms, 952μs, 961ns           5μs, 180ns  \n",
       "2       37s, 4ms, 731μs, 422ns         146μs, 781ns  \n",
       "3     14s, 766ms, 211μs, 576ns          58μs, 571ns  \n",
       "4      14s, 599ms, 61μs, 497ns          57μs, 908ns  \n",
       "5     14s, 822ms, 474μs, 684ns          58μs, 794ns  \n",
       "6     49s, 225ms, 980μs, 400ns         195μs, 258ns  \n",
       "7     23s, 502ms, 259μs, 452ns          93μs, 223ns  \n",
       "8  2m, 40s, 728ms, 575μs, 12ns         637μs, 539ns  "
      ]
     },
     "execution_count": 6,
     "metadata": {},
     "output_type": "execute_result"
    }
   ],
   "source": [
    "results"
   ]
  },
  {
   "cell_type": "code",
   "execution_count": 8,
   "metadata": {},
   "outputs": [
    {
     "name": "stdout",
     "output_type": "stream",
     "text": [
      "<table border=\"0\" class=\"dataframe\">\n",
      "  <thead>\n",
      "    <tr style=\"text-align: right;\">\n",
      "      <th>Library</th>\n",
      "      <th>Model</th>\n",
      "      <th>MSE</th>\n",
      "      <th>Fit time</th>\n",
      "      <th>Average fit time</th>\n",
      "      <th>Predict time</th>\n",
      "      <th>Average predict time</th>\n",
      "    </tr>\n",
      "  </thead>\n",
      "  <tbody>\n",
      "    <tr>\n",
      "      <td>creme</td>\n",
      "      <td>LinearRegression</td>\n",
      "      <td>118.549437</td>\n",
      "      <td>2s, 580ms, 335μs, 806ns</td>\n",
      "      <td>10μs, 235ns</td>\n",
      "      <td>759ms, 277μs, 164ns</td>\n",
      "      <td>3μs, 12ns</td>\n",
      "    </tr>\n",
      "    <tr>\n",
      "      <td>creme</td>\n",
      "      <td>PARegressor</td>\n",
      "      <td>143.477210</td>\n",
      "      <td>6s, 994ms, 226μs, 455ns</td>\n",
      "      <td>27μs, 743ns</td>\n",
      "      <td>1s, 305ms, 952μs, 961ns</td>\n",
      "      <td>5μs, 180ns</td>\n",
      "    </tr>\n",
      "    <tr>\n",
      "      <td>creme</td>\n",
      "      <td>KNeighborsRegressor</td>\n",
      "      <td>155.585250</td>\n",
      "      <td>394ms, 893μs, 956ns</td>\n",
      "      <td>1μs, 566ns</td>\n",
      "      <td>37s, 4ms, 731μs, 422ns</td>\n",
      "      <td>146μs, 781ns</td>\n",
      "    </tr>\n",
      "    <tr>\n",
      "      <td>scikit-learn</td>\n",
      "      <td>SGDRegressor</td>\n",
      "      <td>120.185848</td>\n",
      "      <td>36s, 433ms, 335μs, 738ns</td>\n",
      "      <td>144μs, 515ns</td>\n",
      "      <td>14s, 766ms, 211μs, 576ns</td>\n",
      "      <td>58μs, 571ns</td>\n",
      "    </tr>\n",
      "    <tr>\n",
      "      <td>scikit-learn</td>\n",
      "      <td>PassiveAggressiveRegressor</td>\n",
      "      <td>143.477210</td>\n",
      "      <td>35s, 551ms, 211μs, 534ns</td>\n",
      "      <td>141μs, 16ns</td>\n",
      "      <td>14s, 599ms, 61μs, 497ns</td>\n",
      "      <td>57μs, 908ns</td>\n",
      "    </tr>\n",
      "    <tr>\n",
      "      <td>PyTorch (CPU)</td>\n",
      "      <td>Linear</td>\n",
      "      <td>142.495995</td>\n",
      "      <td>47s, 335ms, 680μs, 555ns</td>\n",
      "      <td>187μs, 760ns</td>\n",
      "      <td>14s, 822ms, 474μs, 684ns</td>\n",
      "      <td>58μs, 794ns</td>\n",
      "    </tr>\n",
      "    <tr>\n",
      "      <td>Keras on Tensorflow (CPU)</td>\n",
      "      <td>Dense</td>\n",
      "      <td>142.494512</td>\n",
      "      <td>1m, 18s, 296ms, 225μs, 913ns</td>\n",
      "      <td>310μs, 566ns</td>\n",
      "      <td>49s, 225ms, 980μs, 400ns</td>\n",
      "      <td>195μs, 258ns</td>\n",
      "    </tr>\n",
      "    <tr>\n",
      "      <td>scikit-garden</td>\n",
      "      <td>MondrianTreeRegressor</td>\n",
      "      <td>201.687033</td>\n",
      "      <td>35s, 983ms, 74μs, 12ns</td>\n",
      "      <td>142μs, 729ns</td>\n",
      "      <td>23s, 502ms, 259μs, 452ns</td>\n",
      "      <td>93μs, 223ns</td>\n",
      "    </tr>\n",
      "    <tr>\n",
      "      <td>scikit-garden</td>\n",
      "      <td>MondrianForestRegressor</td>\n",
      "      <td>142.364156</td>\n",
      "      <td>5m, 58s, 226ms, 553μs, 453ns</td>\n",
      "      <td>1ms, 420μs, 925ns</td>\n",
      "      <td>2m, 40s, 728ms, 575μs, 12ns</td>\n",
      "      <td>637μs, 539ns</td>\n",
      "    </tr>\n",
      "  </tbody>\n",
      "</table>\n"
     ]
    }
   ],
   "source": [
    "print(results.to_html(\n",
    "    index=False,\n",
    "    columns=['Library', 'Model', 'MSE', 'Fit time', 'Average fit time', 'Predict time', 'Average predict time'],\n",
    "    border=0\n",
    "))"
   ]
  }
 ],
 "metadata": {
  "kernelspec": {
   "display_name": "Python 3",
   "language": "python",
   "name": "python3"
  },
  "language_info": {
   "codemirror_mode": {
    "name": "ipython",
    "version": 3
   },
   "file_extension": ".py",
   "mimetype": "text/x-python",
   "name": "python",
   "nbconvert_exporter": "python",
   "pygments_lexer": "ipython3",
   "version": "3.7.3"
  }
 },
 "nbformat": 4,
 "nbformat_minor": 2
}
